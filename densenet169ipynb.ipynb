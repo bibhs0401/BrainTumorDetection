{
  "nbformat": 4,
  "nbformat_minor": 0,
  "metadata": {
    "colab": {
      "provenance": [],
      "gpuType": "T4"
    },
    "kernelspec": {
      "name": "python3",
      "display_name": "Python 3"
    },
    "language_info": {
      "name": "python"
    },
    "accelerator": "GPU"
  },
  "cells": [
    {
      "cell_type": "code",
      "source": [
        "#connect google colab with google drive\n",
        "from google.colab import drive\n",
        "drive.mount(\"/content/gdrive\")"
      ],
      "metadata": {
        "colab": {
          "base_uri": "https://localhost:8080/"
        },
        "id": "b9KOVCHbSr94",
        "outputId": "f7ed4ce0-d66a-4dd6-b7bf-3a16268c7ab6"
      },
      "execution_count": 1,
      "outputs": [
        {
          "output_type": "stream",
          "name": "stdout",
          "text": [
            "Mounted at /content/gdrive\n"
          ]
        }
      ]
    },
    {
      "cell_type": "code",
      "source": [
        "#import the libraries to load dataset\n",
        "import zipfile\n",
        "import os\n",
        "\n",
        "#opens file in readmode\n",
        "zip_ref = zipfile.ZipFile('/content/gdrive/MyDrive/MajorProject/br35hdataset/train.zip')\n",
        "\n",
        "\n",
        "#extracts the files into the /MajorProject folder\n",
        "zip_ref.extractall('/content/gdrive/MyDrive/MajorProject/br35hdataset')\n",
        "\n",
        "#close the file\n",
        "zip_ref.close()"
      ],
      "metadata": {
        "id": "fGV8lbeUf75M"
      },
      "execution_count": 2,
      "outputs": []
    },
    {
      "cell_type": "code",
      "source": [
        "#import the libraries to load dataset\n",
        "import zipfile\n",
        "import os\n",
        "\n",
        "#opens file in readmode\n",
        "zip_ref = zipfile.ZipFile('/content/gdrive/MyDrive/MajorProject/br35hdataset/test.zip')\n",
        "\n",
        "\n",
        "#extracts the files into the /MajorProject folder\n",
        "zip_ref.extractall('/content/gdrive/MyDrive/MajorProject/br35hdataset')\n",
        "\n",
        "#close the file\n",
        "zip_ref.close()"
      ],
      "metadata": {
        "id": "o5CZXG_ef8dD"
      },
      "execution_count": 3,
      "outputs": []
    },
    {
      "cell_type": "code",
      "source": [
        "#import the libraries to load dataset\n",
        "import zipfile\n",
        "import os\n",
        "\n",
        "#opens file in readmode\n",
        "zip_ref = zipfile.ZipFile('/content/gdrive/MyDrive/MajorProject/br35hdataset/validation.zip')\n",
        "\n",
        "\n",
        "#extracts the files into the /MajorProject folder\n",
        "zip_ref.extractall('/content/gdrive/MyDrive/MajorProject/br35hdataset')\n",
        "\n",
        "#close the file\n",
        "zip_ref.close()"
      ],
      "metadata": {
        "id": "9vINuKPxf-fy"
      },
      "execution_count": 4,
      "outputs": []
    },
    {
      "cell_type": "code",
      "source": [
        "import os\n",
        "import glob\n",
        "\n",
        "folder_path = '/content/gdrive/MyDrive/MajorProject/br35hdataset/train'  # replace with the actual folder path\n",
        "\n",
        "yes_path = os.path.join(folder_path, 'yes')\n",
        "no_path = os.path.join(folder_path, 'no')\n",
        "\n",
        "yes_count = len(glob.glob(os.path.join(yes_path, '*.jpg')))  # replace '*.jpg' with the actual file extension of your images\n",
        "no_count = len(glob.glob(os.path.join(no_path, '*.jpg')))  # replace '*.jpg' with the actual file extension of your images\n",
        "\n",
        "print(f'Total images in \"yes\" folder: {yes_count}')\n",
        "print(f'Total images in \"no\" folder: {no_count}')\n",
        "print(yes_count+no_count)\n"
      ],
      "metadata": {
        "colab": {
          "base_uri": "https://localhost:8080/"
        },
        "id": "5qlOEYklgIPL",
        "outputId": "4ece5356-59aa-4385-e999-9f33e98bc603"
      },
      "execution_count": 5,
      "outputs": [
        {
          "output_type": "stream",
          "name": "stdout",
          "text": [
            "Total images in \"yes\" folder: 7180\n",
            "Total images in \"no\" folder: 7220\n",
            "14400\n"
          ]
        }
      ]
    },
    {
      "cell_type": "code",
      "execution_count": 6,
      "metadata": {
        "id": "u5Zt361XQ84X"
      },
      "outputs": [],
      "source": [
        "from tensorflow.keras.applications import DenseNet169\n",
        "from tensorflow.keras.models import Sequential\n",
        "from tensorflow.keras.layers import Dense, Flatten\n",
        "from tensorflow.keras.preprocessing.image import ImageDataGenerator\n"
      ]
    },
    {
      "cell_type": "code",
      "source": [
        "# Set the image size and batch size\n",
        "img_size = (256, 256)\n",
        "batch_size = 32"
      ],
      "metadata": {
        "id": "nVYxtaIFQ-_Y"
      },
      "execution_count": 7,
      "outputs": []
    },
    {
      "cell_type": "code",
      "source": [
        "# Define data paths\n",
        "train_path = '/content/gdrive/MyDrive/MajorProject/br35hdataset/train'\n",
        "test_path = '/content/gdrive/MyDrive/MajorProject/br35hdataset/test'\n",
        "val_path = '/content/gdrive/MyDrive/MajorProject/br35hdataset/validation'"
      ],
      "metadata": {
        "id": "NSR6ouJKRFzW"
      },
      "execution_count": 8,
      "outputs": []
    },
    {
      "cell_type": "code",
      "source": [
        "# Create data generators with data augmentation\n",
        "train_datagen = ImageDataGenerator(\n",
        "    rescale=1.0/255\n",
        ")\n",
        "\n",
        "test_datagen = ImageDataGenerator(rescale=1.0/255)\n",
        "val_datagen = ImageDataGenerator(rescale=1.0/255)\n",
        "\n",
        "train_generator = train_datagen.flow_from_directory(\n",
        "    train_path,\n",
        "    target_size=img_size,\n",
        "    batch_size=batch_size,\n",
        "    class_mode='categorical'\n",
        ")\n",
        "\n",
        "test_generator = test_datagen.flow_from_directory(\n",
        "    test_path,\n",
        "    target_size=img_size,\n",
        "    batch_size=batch_size,\n",
        "    class_mode='categorical',\n",
        "    shuffle=False\n",
        ")\n",
        "\n",
        "val_generator = val_datagen.flow_from_directory(\n",
        "    val_path,\n",
        "    target_size=img_size,\n",
        "    batch_size=batch_size,\n",
        "    class_mode='categorical'\n",
        ")"
      ],
      "metadata": {
        "colab": {
          "base_uri": "https://localhost:8080/"
        },
        "id": "CnglRTMzRMg-",
        "outputId": "369be326-7ebf-40e8-a560-90aa3bc22f9a"
      },
      "execution_count": 9,
      "outputs": [
        {
          "output_type": "stream",
          "name": "stdout",
          "text": [
            "Found 14400 images belonging to 2 classes.\n",
            "Found 1800 images belonging to 2 classes.\n",
            "Found 1800 images belonging to 2 classes.\n"
          ]
        }
      ]
    },
    {
      "cell_type": "code",
      "source": [
        "# Load the pretrained DenseNet169 model without the top (fully connected) layers\n",
        "base_model = DenseNet169(weights='imagenet', include_top=False, input_shape=(256, 256, 3))"
      ],
      "metadata": {
        "colab": {
          "base_uri": "https://localhost:8080/"
        },
        "id": "H2ctDYBuRXJE",
        "outputId": "f622ac84-df74-46fd-8c9d-0b6a4089cd04"
      },
      "execution_count": 10,
      "outputs": [
        {
          "output_type": "stream",
          "name": "stdout",
          "text": [
            "Downloading data from https://storage.googleapis.com/tensorflow/keras-applications/densenet/densenet169_weights_tf_dim_ordering_tf_kernels_notop.h5\n",
            "51877672/51877672 [==============================] - 3s 0us/step\n"
          ]
        }
      ]
    },
    {
      "cell_type": "code",
      "source": [
        "# Create a new model and add the base model and new fully connected layers\n",
        "model = Sequential()\n",
        "model.add(base_model)\n",
        "model.add(Flatten())\n",
        "model.add(Dense(256, activation='relu'))\n",
        "model.add(Dense(2, activation='softmax'))  # 2 classes: 'yes' and 'no'"
      ],
      "metadata": {
        "id": "JvhoG4JzRebT"
      },
      "execution_count": 11,
      "outputs": []
    },
    {
      "cell_type": "code",
      "source": [
        "# Freeze the base model layers\n",
        "base_model.trainable = False\n",
        "\n",
        "# Compile the model\n",
        "model.compile(optimizer='adam', loss='categorical_crossentropy', metrics=['accuracy'])"
      ],
      "metadata": {
        "id": "igspXSwrRfdj"
      },
      "execution_count": 12,
      "outputs": []
    },
    {
      "cell_type": "code",
      "source": [
        "# Train the model\n",
        "num_epochs = 30\n",
        "steps_per_epoch = train_generator.samples // batch_size\n",
        "val_steps = val_generator.samples // batch_size"
      ],
      "metadata": {
        "id": "0BX4p5HxRke8"
      },
      "execution_count": 13,
      "outputs": []
    },
    {
      "cell_type": "code",
      "source": [
        "history= model.fit(\n",
        "    train_generator,\n",
        "    epochs=num_epochs,\n",
        "    steps_per_epoch=steps_per_epoch,\n",
        "    validation_data=val_generator,\n",
        "    validation_steps=val_steps\n",
        ")\n",
        "\n"
      ],
      "metadata": {
        "colab": {
          "base_uri": "https://localhost:8080/"
        },
        "id": "oa0VllnURlW-",
        "outputId": "68931805-1be1-433c-d0e3-ac0509a24c57"
      },
      "execution_count": 14,
      "outputs": [
        {
          "output_type": "stream",
          "name": "stdout",
          "text": [
            "Epoch 1/30\n",
            "450/450 [==============================] - 153s 295ms/step - loss: 0.9531 - accuracy: 0.9326 - val_loss: 0.1242 - val_accuracy: 0.9782\n",
            "Epoch 2/30\n",
            "450/450 [==============================] - 113s 252ms/step - loss: 0.1601 - accuracy: 0.9734 - val_loss: 0.1351 - val_accuracy: 0.9777\n",
            "Epoch 3/30\n",
            "450/450 [==============================] - 122s 271ms/step - loss: 0.0484 - accuracy: 0.9877 - val_loss: 0.0476 - val_accuracy: 0.9911\n",
            "Epoch 4/30\n",
            "450/450 [==============================] - 112s 250ms/step - loss: 0.0297 - accuracy: 0.9908 - val_loss: 0.0458 - val_accuracy: 0.9883\n",
            "Epoch 5/30\n",
            "450/450 [==============================] - 119s 265ms/step - loss: 0.0103 - accuracy: 0.9962 - val_loss: 0.0405 - val_accuracy: 0.9905\n",
            "Epoch 6/30\n",
            "450/450 [==============================] - 121s 268ms/step - loss: 0.0150 - accuracy: 0.9948 - val_loss: 0.0365 - val_accuracy: 0.9888\n",
            "Epoch 7/30\n",
            "450/450 [==============================] - 122s 270ms/step - loss: 0.0122 - accuracy: 0.9960 - val_loss: 0.0320 - val_accuracy: 0.9939\n",
            "Epoch 8/30\n",
            "450/450 [==============================] - 113s 250ms/step - loss: 0.0251 - accuracy: 0.9912 - val_loss: 0.0854 - val_accuracy: 0.9771\n",
            "Epoch 9/30\n",
            "450/450 [==============================] - 119s 263ms/step - loss: 0.0166 - accuracy: 0.9938 - val_loss: 0.0390 - val_accuracy: 0.9916\n",
            "Epoch 10/30\n",
            "450/450 [==============================] - 120s 266ms/step - loss: 0.0110 - accuracy: 0.9967 - val_loss: 0.0579 - val_accuracy: 0.9855\n",
            "Epoch 11/30\n",
            "450/450 [==============================] - 121s 268ms/step - loss: 0.0109 - accuracy: 0.9962 - val_loss: 0.0427 - val_accuracy: 0.9877\n",
            "Epoch 12/30\n",
            "450/450 [==============================] - 118s 261ms/step - loss: 0.0205 - accuracy: 0.9930 - val_loss: 0.0347 - val_accuracy: 0.9900\n",
            "Epoch 13/30\n",
            "450/450 [==============================] - 110s 244ms/step - loss: 0.0075 - accuracy: 0.9974 - val_loss: 0.0532 - val_accuracy: 0.9877\n",
            "Epoch 14/30\n",
            "450/450 [==============================] - 119s 264ms/step - loss: 0.0228 - accuracy: 0.9926 - val_loss: 0.0559 - val_accuracy: 0.9866\n",
            "Epoch 15/30\n",
            "450/450 [==============================] - 108s 240ms/step - loss: 0.0165 - accuracy: 0.9953 - val_loss: 0.1636 - val_accuracy: 0.9565\n",
            "Epoch 16/30\n",
            "450/450 [==============================] - 110s 243ms/step - loss: 0.0188 - accuracy: 0.9941 - val_loss: 0.0361 - val_accuracy: 0.9888\n",
            "Epoch 17/30\n",
            "450/450 [==============================] - 108s 241ms/step - loss: 0.0088 - accuracy: 0.9972 - val_loss: 0.0521 - val_accuracy: 0.9844\n",
            "Epoch 18/30\n",
            "450/450 [==============================] - 120s 266ms/step - loss: 0.0143 - accuracy: 0.9944 - val_loss: 0.0578 - val_accuracy: 0.9860\n",
            "Epoch 19/30\n",
            "450/450 [==============================] - 118s 262ms/step - loss: 0.0028 - accuracy: 0.9991 - val_loss: 0.0229 - val_accuracy: 0.9939\n",
            "Epoch 20/30\n",
            "450/450 [==============================] - 109s 241ms/step - loss: 0.0085 - accuracy: 0.9974 - val_loss: 0.0508 - val_accuracy: 0.9872\n",
            "Epoch 21/30\n",
            "450/450 [==============================] - 120s 266ms/step - loss: 0.0175 - accuracy: 0.9948 - val_loss: 0.0602 - val_accuracy: 0.9877\n",
            "Epoch 22/30\n",
            "450/450 [==============================] - 120s 267ms/step - loss: 0.0052 - accuracy: 0.9983 - val_loss: 0.0955 - val_accuracy: 0.9782\n",
            "Epoch 23/30\n",
            "450/450 [==============================] - 111s 246ms/step - loss: 0.0027 - accuracy: 0.9991 - val_loss: 0.0281 - val_accuracy: 0.9933\n",
            "Epoch 24/30\n",
            "450/450 [==============================] - 118s 263ms/step - loss: 7.7965e-05 - accuracy: 1.0000 - val_loss: 0.0273 - val_accuracy: 0.9944\n",
            "Epoch 25/30\n",
            "450/450 [==============================] - 108s 240ms/step - loss: 6.2333e-05 - accuracy: 1.0000 - val_loss: 0.0288 - val_accuracy: 0.9933\n",
            "Epoch 26/30\n",
            "450/450 [==============================] - 119s 264ms/step - loss: 1.7532e-05 - accuracy: 1.0000 - val_loss: 0.0293 - val_accuracy: 0.9939\n",
            "Epoch 27/30\n",
            "450/450 [==============================] - 108s 240ms/step - loss: 7.7071e-06 - accuracy: 1.0000 - val_loss: 0.0292 - val_accuracy: 0.9939\n",
            "Epoch 28/30\n",
            "450/450 [==============================] - 109s 241ms/step - loss: 5.6913e-06 - accuracy: 1.0000 - val_loss: 0.0298 - val_accuracy: 0.9939\n",
            "Epoch 29/30\n",
            "450/450 [==============================] - 108s 239ms/step - loss: 4.3701e-06 - accuracy: 1.0000 - val_loss: 0.0319 - val_accuracy: 0.9944\n",
            "Epoch 30/30\n",
            "450/450 [==============================] - 115s 256ms/step - loss: 3.5040e-06 - accuracy: 1.0000 - val_loss: 0.0315 - val_accuracy: 0.9944\n"
          ]
        }
      ]
    },
    {
      "cell_type": "code",
      "source": [
        "# Evaluate the model on the test set\n",
        "test_steps = test_generator.samples // batch_size\n",
        "test_loss, test_accuracy = model.evaluate(test_generator, steps=test_steps)\n",
        "print('Test Loss:', test_loss)\n",
        "print('Test Accuracy:', test_accuracy)"
      ],
      "metadata": {
        "id": "XQrWjbK_Rpoh",
        "colab": {
          "base_uri": "https://localhost:8080/"
        },
        "outputId": "0c4cb489-9165-4d2a-aa43-6f443fa70c89"
      },
      "execution_count": 15,
      "outputs": [
        {
          "output_type": "stream",
          "name": "stdout",
          "text": [
            "56/56 [==============================] - 13s 236ms/step - loss: 0.0273 - accuracy: 0.9961\n",
            "Test Loss: 0.027293818071484566\n",
            "Test Accuracy: 0.99609375\n"
          ]
        }
      ]
    },
    {
      "cell_type": "code",
      "source": [
        "# Save the model\n",
        "model.save('/content/gdrive/MyDrive/MajorProject/densenet.h5')"
      ],
      "metadata": {
        "id": "oI4f5Oi5WZTC"
      },
      "execution_count": 16,
      "outputs": []
    },
    {
      "cell_type": "code",
      "source": [
        "from tensorflow.keras.models import load_model\n",
        "\n",
        "# Load the saved model\n",
        "\n",
        "densenet_model = load_model('/content/gdrive/MyDrive/MajorProject/densenet.h5')"
      ],
      "metadata": {
        "id": "FHGk7tCJWaCa"
      },
      "execution_count": null,
      "outputs": []
    },
    {
      "cell_type": "code",
      "source": [
        "import matplotlib.pyplot as plt\n",
        "\n",
        "# Plot training vs test accuracy and loss, and training vs validation accuracy and loss\n",
        "plt.figure(figsize=(12, 4))\n",
        "plt.subplot(1, 2, 1)\n",
        "plt.plot(history.history['accuracy'])\n",
        "plt.plot(history.history['val_accuracy'])\n",
        "plt.title('Model Accuracy')\n",
        "plt.xlabel('Epoch')\n",
        "plt.ylabel('Accuracy')\n",
        "plt.legend(['Train', 'Validation'], loc='lower right')\n",
        "\n",
        "plt.subplot(1, 2, 2)\n",
        "plt.plot(history.history['loss'])\n",
        "plt.plot(history.history['val_loss'])\n",
        "plt.title('Model Loss')\n",
        "plt.xlabel('Epoch')\n",
        "plt.ylabel('Loss')\n",
        "plt.legend(['Train', 'Validation'], loc='upper right')\n",
        "plt.show()"
      ],
      "metadata": {
        "id": "8GHzuUo2Whek",
        "colab": {
          "base_uri": "https://localhost:8080/",
          "height": 410
        },
        "outputId": "573d2c17-01e6-4748-e2f3-c7ead7b49c0a"
      },
      "execution_count": 17,
      "outputs": [
        {
          "output_type": "display_data",
          "data": {
            "text/plain": [
              "<Figure size 1200x400 with 2 Axes>"
            ],
            "image/png": "[encoded data removed]"
          },
          "metadata": {}
        }
      ]
    },
    {
      "cell_type": "code",
      "source": [
        "import numpy as np\n",
        "import seaborn as sns\n",
        "from sklearn.metrics import confusion_matrix\n",
        "\n",
        "# Generate predictions for the test data\n",
        "y_pred = model.predict(test_generator)\n",
        "y_pred = np.argmax(y_pred, axis=1)\n",
        "\n",
        "# Get the true labels for the test data\n",
        "y_true = test_generator.classes\n",
        "\n",
        "# Generate the confusion matrix\n",
        "cm = confusion_matrix(y_true, y_pred)\n",
        "\n",
        "# Plot the confusion matrix using seaborn heatmap\n",
        "sns.heatmap(cm, annot=True, fmt='d', cmap='Blues',\n",
        "            xticklabels=['No Tumor', 'Tumor'],\n",
        "            yticklabels=['No Tumor', 'Tumor'])\n",
        "plt.title('Confusion Matrix')\n",
        "plt.ylabel('True Label')\n",
        "plt.xlabel('Predicted Label')\n",
        "plt.show()\n",
        "\n",
        ""
      ],
      "metadata": {
        "id": "b2EI6Zy5WQBS",
        "colab": {
          "base_uri": "https://localhost:8080/",
          "height": 490
        },
        "outputId": "b4d0cdc7-e274-48ab-f960-6885be769133"
      },
      "execution_count": 19,
      "outputs": [
        {
          "output_type": "stream",
          "name": "stdout",
          "text": [
            "57/57 [==============================] - 16s 275ms/step\n"
          ]
        },
        {
          "output_type": "display_data",
          "data": {
            "text/plain": [
              "<Figure size 640x480 with 2 Axes>"
            ],
            "image/png": "[encoded data removed]"
          },
          "metadata": {}
        }
      ]
    },
    {
      "cell_type": "code",
      "source": [
        "X_test, y_test = test_generator.next()"
      ],
      "metadata": {
        "id": "S91wBdOOlinS"
      },
      "execution_count": 20,
      "outputs": []
    },
    {
      "cell_type": "code",
      "source": [
        "from sklearn.metrics import classification_report, confusion_matrix\n",
        "\n",
        "# Get the predicted labels for the test data\n",
        "y_pred = model.predict(X_test)\n",
        "\n",
        "# Convert the predicted labels to binary values (0 or 1)\n",
        "y_pred_binary = np.argmax(y_pred, axis=1)\n",
        "\n",
        "# Calculate precision, recall, sensitivity, specificity, f1 score, and f beta score\n",
        "tn, fp, fn, tp = cm.ravel()\n",
        "precision = tp / (tp + fp)\n",
        "recall = tp / (tp + fn)\n",
        "sensitivity = recall\n",
        "specificity = tn / (tn + fp)\n",
        "f1_score = 2 * (precision * recall) / (precision + recall)\n",
        "beta = 2\n",
        "f_beta_score = (1 + beta ** 2) * (precision * recall) / (beta ** 2 * precision + recall)\n",
        "\n",
        "# Print the metrics\n",
        "print(\"Precision: {:.4f}\".format(precision))\n",
        "print(\"Recall: {:.4f}\".format(recall))\n",
        "print(\"Sensitivity: {:.4f}\".format(sensitivity))\n",
        "print(\"Specificity: {:.4f}\".format(specificity))\n",
        "print(\"F1 Score: {:.4f}\".format(f1_score))\n",
        "print(\"F Beta Score: {:.4f}\".format(f_beta_score))"
      ],
      "metadata": {
        "colab": {
          "base_uri": "https://localhost:8080/"
        },
        "id": "2SUKc9iDlK8L",
        "outputId": "280a828e-6c12-4b1b-cb87-205563e3fbb2"
      },
      "execution_count": 21,
      "outputs": [
        {
          "output_type": "stream",
          "name": "stdout",
          "text": [
            "1/1 [==============================] - 4s 4s/step\n",
            "Precision: 0.9956\n",
            "Recall: 0.9967\n",
            "Sensitivity: 0.9967\n",
            "Specificity: 0.9955\n",
            "F1 Score: 0.9961\n",
            "F Beta Score: 0.9965\n"
          ]
        }
      ]
    },
    {
      "cell_type": "code",
      "source": [],
      "metadata": {
        "id": "SujuBT0olo-f"
      },
      "execution_count": null,
      "outputs": []
    }
  ]
}