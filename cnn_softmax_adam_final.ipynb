{
  "nbformat": 4,
  "nbformat_minor": 0,
  "metadata": {
    "colab": {
      "provenance": []
    },
    "kernelspec": {
      "name": "python3",
      "display_name": "Python 3"
    },
    "language_info": {
      "name": "python"
    },
    "gpuClass": "standard",
    "accelerator": "GPU"
  },
  "cells": [
    {
      "cell_type": "code",
      "execution_count": 1,
      "metadata": {
        "id": "2koWUVJ2ryof",
        "colab": {
          "base_uri": "https://localhost:8080/"
        },
        "outputId": "dd488816-3c01-4136-e2a0-d446142cd610"
      },
      "outputs": [
        {
          "output_type": "stream",
          "name": "stdout",
          "text": [
            "Mounted at /content/gdrive\n"
          ]
        }
      ],
      "source": [
        "#connect google colab with google drive\n",
        "from google.colab import drive\n",
        "drive.mount(\"/content/gdrive\")"
      ]
    },
    {
      "cell_type": "code",
      "source": [
        "#import the libraries to load dataset\n",
        "import zipfile\n",
        "import os\n",
        "\n",
        "#opens file in readmode\n",
        "zip_ref = zipfile.ZipFile('/content/gdrive/MyDrive/MajorProject/br35hdataset/train.zip')\n",
        "\n",
        "\n",
        "#extracts the files into the /MajorProject folder\n",
        "zip_ref.extractall('/content/gdrive/MyDrive/MajorProject/br35hdataset')\n",
        "\n",
        "#close the file\n",
        "zip_ref.close()"
      ],
      "metadata": {
        "id": "G3Q_Wi5cwa_2"
      },
      "execution_count": 2,
      "outputs": []
    },
    {
      "cell_type": "code",
      "source": [
        "#import the libraries to load dataset\n",
        "import zipfile\n",
        "import os\n",
        "\n",
        "#opens file in readmode\n",
        "zip_ref = zipfile.ZipFile('/content/gdrive/MyDrive/MajorProject/br35hdataset/validation.zip')\n",
        "\n",
        "#extracts the files into the /MajorProject folder\n",
        "zip_ref.extractall('/content/gdrive/MyDrive/MajorProject/br35hdataset')\n",
        "\n",
        "#close the file\n",
        "zip_ref.close()\n"
      ],
      "metadata": {
        "id": "BSJr3NYUwcBM"
      },
      "execution_count": 3,
      "outputs": []
    },
    {
      "cell_type": "code",
      "source": [
        "import os\n",
        "import glob\n",
        "\n",
        "folder_path = '/content/gdrive/MyDrive/MajorProject/br35hdataset/train'  # replace with the actual folder path\n",
        "\n",
        "yes_path = os.path.join(folder_path, 'yes')\n",
        "no_path = os.path.join(folder_path, 'no')\n",
        "\n",
        "yes_count = len(glob.glob(os.path.join(yes_path, '*.jpg')))  # replace '*.jpg' with the actual file extension of your images\n",
        "no_count = len(glob.glob(os.path.join(no_path, '*.jpg')))  # replace '*.jpg' with the actual file extension of your images\n",
        "\n",
        "print(f'Total images in \"yes\" folder: {yes_count}')\n",
        "print(f'Total images in \"no\" folder: {no_count}')\n",
        "print(yes_count+no_count)\n"
      ],
      "metadata": {
        "colab": {
          "base_uri": "https://localhost:8080/"
        },
        "id": "pXLoCcRIKscy",
        "outputId": "447e0ef8-4188-4372-894a-7d04cdb689d5"
      },
      "execution_count": 4,
      "outputs": [
        {
          "output_type": "stream",
          "name": "stdout",
          "text": [
            "Total images in \"yes\" folder: 7180\n",
            "Total images in \"no\" folder: 7220\n",
            "14400\n"
          ]
        }
      ]
    },
    {
      "cell_type": "code",
      "source": [
        "#import the libraries to load dataset\n",
        "import zipfile\n",
        "import os\n",
        "\n",
        "#opens file in readmode\n",
        "zip_ref = zipfile.ZipFile('/content/gdrive/MyDrive/MajorProject/br35hdataset/test.zip')\n",
        "\n",
        "#extracts the files into the /MajorProject folder\n",
        "zip_ref.extractall('/content/gdrive/MyDrive/MajorProject/br35hdataset')\n",
        "\n",
        "#close the file\n",
        "zip_ref.close()"
      ],
      "metadata": {
        "id": "BmWdbsdZwlC-"
      },
      "execution_count": 5,
      "outputs": []
    },
    {
      "cell_type": "code",
      "source": [
        "import tensorflow as tf\n",
        "from tensorflow.keras import models, layers\n",
        "import matplotlib.pyplot as plt\n",
        "from tensorflow.keras.layers import Conv2D, Input, ZeroPadding2D, BatchNormalization, Activation, MaxPooling2D, Flatten, Dense\n",
        "from tensorflow.keras.models import Model, load_model\n",
        "from tensorflow.keras.callbacks import TensorBoard, ModelCheckpoint\n",
        "import cv2\n",
        "import imutils\n",
        "import numpy as np\n",
        "import time\n",
        "import sys\n",
        "import math"
      ],
      "metadata": {
        "id": "-bWiTIN56-mc"
      },
      "execution_count": 6,
      "outputs": []
    },
    {
      "cell_type": "code",
      "source": [
        "#initializing variables\n",
        "BATCH_SIZE = 32\n",
        "IMAGE_SIZE = 256\n",
        "CHANNELS=3\n",
        "EPOCHS=30\n",
        "n_classes = 2"
      ],
      "metadata": {
        "id": "DN7I5dxo7Nl3"
      },
      "execution_count": 7,
      "outputs": []
    },
    {
      "cell_type": "code",
      "source": [
        "from tensorflow.keras.preprocessing.image import ImageDataGenerator\n",
        "from tensorflow.keras import models, layers\n",
        "\n",
        "input_shape = (BATCH_SIZE, IMAGE_SIZE, IMAGE_SIZE, CHANNELS)\n",
        "\n",
        "train_data_dir = '/content/gdrive/MyDrive/MajorProject/br35hdataset/train'\n",
        "validation_data_dir = '/content/gdrive/MyDrive/MajorProject/br35hdataset/validation'\n",
        "\n",
        "train_datagen = ImageDataGenerator(\n",
        "    rescale=1./255,    \n",
        ")\n",
        "\n",
        "val_datagen = ImageDataGenerator(rescale=1./255)\n",
        "\n",
        "train_generator = train_datagen.flow_from_directory(\n",
        "    train_data_dir,\n",
        "    target_size=(IMAGE_SIZE, IMAGE_SIZE),\n",
        "    batch_size=BATCH_SIZE,\n",
        "    class_mode='binary'\n",
        ")\n",
        "\n",
        "validation_generator = val_datagen.flow_from_directory(\n",
        "    validation_data_dir,\n",
        "    target_size=(IMAGE_SIZE, IMAGE_SIZE),\n",
        "    batch_size=BATCH_SIZE,\n",
        "    class_mode='binary'\n",
        ")\n",
        "\n",
        "\n"
      ],
      "metadata": {
        "id": "w9k6twYH7VUp",
        "colab": {
          "base_uri": "https://localhost:8080/"
        },
        "outputId": "0af48eb2-7d4b-40bd-98ab-3eb4c5984365"
      },
      "execution_count": 8,
      "outputs": [
        {
          "output_type": "stream",
          "name": "stdout",
          "text": [
            "Found 14400 images belonging to 2 classes.\n",
            "Found 1800 images belonging to 2 classes.\n"
          ]
        }
      ]
    },
    {
      "cell_type": "code",
      "source": [
        "model = models.Sequential([\n",
        "\n",
        "    layers.Conv2D(32, kernel_size = (3,3), activation='relu', input_shape=(IMAGE_SIZE, IMAGE_SIZE,CHANNELS)),\n",
        "    layers.MaxPooling2D((2, 2)),\n",
        "    layers.Dropout(rate=0.2),\n",
        "    layers.Conv2D(64,  kernel_size = (3,3), activation='relu'),\n",
        "    layers.MaxPooling2D((2, 2)),\n",
        "    layers.Dropout(rate=0.2),\n",
        "    layers.Conv2D(64,  kernel_size = (3,3), activation='relu'),\n",
        "    layers.MaxPooling2D((2, 2)),\n",
        "    layers.Dropout(rate=0.2),\n",
        "    layers.Conv2D(64, (3, 3), activation='relu'),\n",
        "    layers.MaxPooling2D((2, 2)),\n",
        "    layers.Dropout(rate=0.2),\n",
        "    layers.Conv2D(128, (3, 3), activation='relu'),\n",
        "    layers.MaxPooling2D((2, 2)),\n",
        "    layers.Dropout(rate=0.2),\n",
        "    layers.Flatten(),\n",
        "    layers.Dense(units = 128, activation='relu'), #128 neurons\n",
        "    layers.Dense(2, activation='softmax'), #2 neurons\n",
        "])\n"
      ],
      "metadata": {
        "id": "m-LZtPewE6Q3"
      },
      "execution_count": 9,
      "outputs": []
    },
    {
      "cell_type": "code",
      "source": [
        "model.summary()"
      ],
      "metadata": {
        "id": "5IdKwqPh7WZm",
        "colab": {
          "base_uri": "https://localhost:8080/"
        },
        "outputId": "aa5fd8c0-32dd-46b6-be1e-1d269ec31e7c"
      },
      "execution_count": 10,
      "outputs": [
        {
          "output_type": "stream",
          "name": "stdout",
          "text": [
            "Model: \"sequential\"\n",
            "_________________________________________________________________\n",
            " Layer (type)                Output Shape              Param #   \n",
            "=================================================================\n",
            " conv2d (Conv2D)             (None, 254, 254, 32)      896       \n",
            "                                                                 \n",
            " max_pooling2d (MaxPooling2D  (None, 127, 127, 32)     0         \n",
            " )                                                               \n",
            "                                                                 \n",
            " dropout (Dropout)           (None, 127, 127, 32)      0         \n",
            "                                                                 \n",
            " conv2d_1 (Conv2D)           (None, 125, 125, 64)      18496     \n",
            "                                                                 \n",
            " max_pooling2d_1 (MaxPooling  (None, 62, 62, 64)       0         \n",
            " 2D)                                                             \n",
            "                                                                 \n",
            " dropout_1 (Dropout)         (None, 62, 62, 64)        0         \n",
            "                                                                 \n",
            " conv2d_2 (Conv2D)           (None, 60, 60, 64)        36928     \n",
            "                                                                 \n",
            " max_pooling2d_2 (MaxPooling  (None, 30, 30, 64)       0         \n",
            " 2D)                                                             \n",
            "                                                                 \n",
            " dropout_2 (Dropout)         (None, 30, 30, 64)        0         \n",
            "                                                                 \n",
            " conv2d_3 (Conv2D)           (None, 28, 28, 64)        36928     \n",
            "                                                                 \n",
            " max_pooling2d_3 (MaxPooling  (None, 14, 14, 64)       0         \n",
            " 2D)                                                             \n",
            "                                                                 \n",
            " dropout_3 (Dropout)         (None, 14, 14, 64)        0         \n",
            "                                                                 \n",
            " conv2d_4 (Conv2D)           (None, 12, 12, 128)       73856     \n",
            "                                                                 \n",
            " max_pooling2d_4 (MaxPooling  (None, 6, 6, 128)        0         \n",
            " 2D)                                                             \n",
            "                                                                 \n",
            " dropout_4 (Dropout)         (None, 6, 6, 128)         0         \n",
            "                                                                 \n",
            " flatten (Flatten)           (None, 4608)              0         \n",
            "                                                                 \n",
            " dense (Dense)               (None, 128)               589952    \n",
            "                                                                 \n",
            " dense_1 (Dense)             (None, 2)                 258       \n",
            "                                                                 \n",
            "=================================================================\n",
            "Total params: 757,314\n",
            "Trainable params: 757,314\n",
            "Non-trainable params: 0\n",
            "_________________________________________________________________\n"
          ]
        }
      ]
    },
    {
      "cell_type": "code",
      "source": [
        "model.compile(optimizer='adam', loss='sparse_categorical_crossentropy', metrics=['accuracy'])\n"
      ],
      "metadata": {
        "id": "KahQF5xu7Y0l"
      },
      "execution_count": 11,
      "outputs": []
    },
    {
      "cell_type": "code",
      "source": [
        "history = model.fit(\n",
        "    train_generator,\n",
        "    batch_size=BATCH_SIZE,\n",
        "    validation_data=validation_generator,\n",
        "    verbose=1,\n",
        "    epochs=EPOCHS,\n",
        ")"
      ],
      "metadata": {
        "id": "kJV7AsPf7c1r",
        "colab": {
          "base_uri": "https://localhost:8080/"
        },
        "outputId": "10e3024c-ea4f-488f-a103-e0dec4d67104"
      },
      "execution_count": 12,
      "outputs": [
        {
          "output_type": "stream",
          "name": "stdout",
          "text": [
            "Epoch 1/30\n",
            "450/450 [==============================] - 129s 260ms/step - loss: 0.4948 - accuracy: 0.7619 - val_loss: 0.3982 - val_accuracy: 0.8156\n",
            "Epoch 2/30\n",
            "450/450 [==============================] - 104s 231ms/step - loss: 0.3296 - accuracy: 0.8597 - val_loss: 0.2470 - val_accuracy: 0.8978\n",
            "Epoch 3/30\n",
            "450/450 [==============================] - 103s 229ms/step - loss: 0.2244 - accuracy: 0.9146 - val_loss: 0.1644 - val_accuracy: 0.9439\n",
            "Epoch 4/30\n",
            "450/450 [==============================] - 103s 228ms/step - loss: 0.1411 - accuracy: 0.9449 - val_loss: 0.1373 - val_accuracy: 0.9522\n",
            "Epoch 5/30\n",
            "450/450 [==============================] - 100s 222ms/step - loss: 0.0893 - accuracy: 0.9688 - val_loss: 0.0817 - val_accuracy: 0.9711\n",
            "Epoch 6/30\n",
            "450/450 [==============================] - 104s 231ms/step - loss: 0.0713 - accuracy: 0.9763 - val_loss: 0.0864 - val_accuracy: 0.9778\n",
            "Epoch 7/30\n",
            "450/450 [==============================] - 101s 224ms/step - loss: 0.0679 - accuracy: 0.9767 - val_loss: 0.0587 - val_accuracy: 0.9833\n",
            "Epoch 8/30\n",
            "450/450 [==============================] - 105s 232ms/step - loss: 0.0444 - accuracy: 0.9844 - val_loss: 0.0594 - val_accuracy: 0.9789\n",
            "Epoch 9/30\n",
            "450/450 [==============================] - 103s 228ms/step - loss: 0.0406 - accuracy: 0.9853 - val_loss: 0.1577 - val_accuracy: 0.9411\n",
            "Epoch 10/30\n",
            "450/450 [==============================] - 113s 252ms/step - loss: 0.0357 - accuracy: 0.9881 - val_loss: 0.0487 - val_accuracy: 0.9878\n",
            "Epoch 11/30\n",
            "450/450 [==============================] - 112s 248ms/step - loss: 0.0318 - accuracy: 0.9886 - val_loss: 0.0462 - val_accuracy: 0.9889\n",
            "Epoch 12/30\n",
            "450/450 [==============================] - 103s 230ms/step - loss: 0.0299 - accuracy: 0.9889 - val_loss: 0.0548 - val_accuracy: 0.9817\n",
            "Epoch 13/30\n",
            "450/450 [==============================] - 103s 228ms/step - loss: 0.0255 - accuracy: 0.9911 - val_loss: 0.0540 - val_accuracy: 0.9850\n",
            "Epoch 14/30\n",
            "450/450 [==============================] - 103s 228ms/step - loss: 0.0267 - accuracy: 0.9916 - val_loss: 0.1074 - val_accuracy: 0.9700\n",
            "Epoch 15/30\n",
            "450/450 [==============================] - 104s 231ms/step - loss: 0.0236 - accuracy: 0.9918 - val_loss: 0.1618 - val_accuracy: 0.9511\n",
            "Epoch 16/30\n",
            "450/450 [==============================] - 106s 236ms/step - loss: 0.0234 - accuracy: 0.9913 - val_loss: 0.0675 - val_accuracy: 0.9783\n",
            "Epoch 17/30\n",
            "450/450 [==============================] - 108s 240ms/step - loss: 0.0184 - accuracy: 0.9941 - val_loss: 0.0407 - val_accuracy: 0.9894\n",
            "Epoch 18/30\n",
            "450/450 [==============================] - 107s 238ms/step - loss: 0.0247 - accuracy: 0.9922 - val_loss: 0.0650 - val_accuracy: 0.9844\n",
            "Epoch 19/30\n",
            "450/450 [==============================] - 106s 235ms/step - loss: 0.0286 - accuracy: 0.9910 - val_loss: 0.0951 - val_accuracy: 0.9772\n",
            "Epoch 20/30\n",
            "450/450 [==============================] - 110s 244ms/step - loss: 0.0222 - accuracy: 0.9932 - val_loss: 0.0626 - val_accuracy: 0.9778\n",
            "Epoch 21/30\n",
            "450/450 [==============================] - 108s 240ms/step - loss: 0.0200 - accuracy: 0.9938 - val_loss: 0.0501 - val_accuracy: 0.9867\n",
            "Epoch 22/30\n",
            "450/450 [==============================] - 106s 236ms/step - loss: 0.0183 - accuracy: 0.9944 - val_loss: 0.0400 - val_accuracy: 0.9906\n",
            "Epoch 23/30\n",
            "450/450 [==============================] - 115s 256ms/step - loss: 0.0157 - accuracy: 0.9948 - val_loss: 0.0392 - val_accuracy: 0.9894\n",
            "Epoch 24/30\n",
            "450/450 [==============================] - 107s 238ms/step - loss: 0.0208 - accuracy: 0.9925 - val_loss: 0.0858 - val_accuracy: 0.9733\n",
            "Epoch 25/30\n",
            "450/450 [==============================] - 106s 236ms/step - loss: 0.0173 - accuracy: 0.9935 - val_loss: 0.0523 - val_accuracy: 0.9883\n",
            "Epoch 26/30\n",
            "450/450 [==============================] - 107s 238ms/step - loss: 0.0120 - accuracy: 0.9962 - val_loss: 0.0698 - val_accuracy: 0.9844\n",
            "Epoch 27/30\n",
            "450/450 [==============================] - 106s 235ms/step - loss: 0.0200 - accuracy: 0.9945 - val_loss: 0.0680 - val_accuracy: 0.9817\n",
            "Epoch 28/30\n",
            "450/450 [==============================] - 109s 242ms/step - loss: 0.0147 - accuracy: 0.9954 - val_loss: 0.0703 - val_accuracy: 0.9839\n",
            "Epoch 29/30\n",
            "450/450 [==============================] - 118s 263ms/step - loss: 0.0169 - accuracy: 0.9948 - val_loss: 0.0577 - val_accuracy: 0.9828\n",
            "Epoch 30/30\n",
            "450/450 [==============================] - 111s 246ms/step - loss: 0.0164 - accuracy: 0.9951 - val_loss: 0.0891 - val_accuracy: 0.9783\n"
          ]
        }
      ]
    },
    {
      "cell_type": "code",
      "source": [
        "from tensorflow.keras.models import save_model\n",
        "model.save('/content/gdrive/MyDrive/MajorProject/cnn-softmax-adam.h5')"
      ],
      "metadata": {
        "id": "ODvuvIDn73E5"
      },
      "execution_count": 13,
      "outputs": []
    },
    {
      "cell_type": "code",
      "source": [
        "# Load the test folder\n",
        "test_data_dir = '/content/gdrive/MyDrive/MajorProject/br35hdataset/test'\n",
        "\n",
        "test_datagen = ImageDataGenerator(\n",
        "    rescale=1./255)\n",
        "\n",
        "test_generator = test_datagen.flow_from_directory(\n",
        "    test_data_dir,\n",
        "    target_size=(IMAGE_SIZE, IMAGE_SIZE),\n",
        "    batch_size=BATCH_SIZE,\n",
        "    class_mode='binary',\n",
        "    shuffle=False\n",
        ")"
      ],
      "metadata": {
        "id": "Ct6dcjjR7zvy",
        "colab": {
          "base_uri": "https://localhost:8080/"
        },
        "outputId": "f31cbe20-5de4-47c3-d035-954924a04828"
      },
      "execution_count": 18,
      "outputs": [
        {
          "output_type": "stream",
          "name": "stdout",
          "text": [
            "Found 1800 images belonging to 2 classes.\n"
          ]
        }
      ]
    },
    {
      "cell_type": "code",
      "source": [
        "# evaluate the model on the test set\n",
        "score = model.evaluate_generator(test_generator)\n",
        "print('Test loss:', score[0])\n",
        "print('Test accuracy:', score[1])"
      ],
      "metadata": {
        "id": "O5OLnmxN72fX",
        "colab": {
          "base_uri": "https://localhost:8080/"
        },
        "outputId": "98243f65-4922-49b3-ffc0-46a37c0255a1"
      },
      "execution_count": 19,
      "outputs": [
        {
          "output_type": "stream",
          "name": "stderr",
          "text": [
            "<ipython-input-19-2dded4200935>:2: UserWarning: `Model.evaluate_generator` is deprecated and will be removed in a future version. Please use `Model.evaluate`, which supports generators.\n",
            "  score = model.evaluate_generator(test_generator)\n"
          ]
        },
        {
          "output_type": "stream",
          "name": "stdout",
          "text": [
            "Test loss: 0.07047320157289505\n",
            "Test accuracy: 0.9816666841506958\n"
          ]
        }
      ]
    },
    {
      "cell_type": "code",
      "source": [
        "import matplotlib.pyplot as plt\n",
        "# Plot training and validation loss\n",
        "plt.plot(history.history['loss'], label='Training Loss')\n",
        "plt.plot(history.history['val_loss'], label='Validation Loss')\n",
        "plt.title('Training and Validation Loss')\n",
        "plt.xlabel('Epoch')\n",
        "plt.ylabel('Loss')\n",
        "plt.legend()\n",
        "plt.show()"
      ],
      "metadata": {
        "id": "2pxRJngM773a",
        "colab": {
          "base_uri": "https://localhost:8080/",
          "height": 295
        },
        "outputId": "3c14088b-be75-421c-81fe-5d7d3a71de56"
      },
      "execution_count": 20,
      "outputs": [
        {
          "output_type": "display_data",
          "data": {
            "text/plain": [
              "<Figure size 432x288 with 1 Axes>"
            ],
            "image/png": "[encoded data removed]"
          },
          "metadata": {
            "needs_background": "light"
          }
        }
      ]
    },
    {
      "cell_type": "code",
      "source": [
        "# Plot training and validation accuracy\n",
        "plt.plot(history.history['accuracy'], label='Training Accuracy')\n",
        "plt.plot(history.history['val_accuracy'], label='Validation Accuracy')\n",
        "plt.title('Training and Validation Accuracy')\n",
        "plt.xlabel('Epoch')\n",
        "plt.ylabel('Accuracy')\n",
        "plt.legend()\n",
        "plt.show()"
      ],
      "metadata": {
        "id": "NObzQHSa7-YU",
        "colab": {
          "base_uri": "https://localhost:8080/",
          "height": 295
        },
        "outputId": "d523f70b-72aa-4fb9-ce0c-b3e42f2710d4"
      },
      "execution_count": 21,
      "outputs": [
        {
          "output_type": "display_data",
          "data": {
            "text/plain": [
              "<Figure size 432x288 with 1 Axes>"
            ],
            "image/png": "[encoded data removed]"
          },
          "metadata": {
            "needs_background": "light"
          }
        }
      ]
    },
    {
      "cell_type": "code",
      "source": [
        "# Plot training and test loss\n",
        "plt.plot(history.history['loss'], label='Training Loss')\n",
        "plt.plot(history.history['val_loss'], label='Test Loss')\n",
        "plt.title('Training and Test Loss')\n",
        "plt.xlabel('Epoch')\n",
        "plt.ylabel('Loss')\n",
        "plt.legend()\n",
        "plt.show()"
      ],
      "metadata": {
        "id": "E1dj7BGZ7_OX",
        "colab": {
          "base_uri": "https://localhost:8080/",
          "height": 295
        },
        "outputId": "2869ca3f-26a0-4046-9587-e1be32ba175e"
      },
      "execution_count": 22,
      "outputs": [
        {
          "output_type": "display_data",
          "data": {
            "text/plain": [
              "<Figure size 432x288 with 1 Axes>"
            ],
            "image/png": "[encoded data removed]"
          },
          "metadata": {
            "needs_background": "light"
          }
        }
      ]
    },
    {
      "cell_type": "code",
      "source": [
        "# Plot training and test accuracy\n",
        "plt.plot(history.history['accuracy'], label='Training Accuracy')\n",
        "plt.plot(history.history['val_accuracy'], label='Test Accuracy')\n",
        "plt.title('Training and Test Accuracy')\n",
        "plt.xlabel('Epoch')\n",
        "plt.ylabel('Accuracy')\n",
        "plt.legend()\n",
        "plt.show()"
      ],
      "metadata": {
        "id": "7_dcVeA58Bpf",
        "colab": {
          "base_uri": "https://localhost:8080/",
          "height": 295
        },
        "outputId": "7c0a4933-1f37-428f-bfef-a15326041cb1"
      },
      "execution_count": 23,
      "outputs": [
        {
          "output_type": "display_data",
          "data": {
            "text/plain": [
              "<Figure size 432x288 with 1 Axes>"
            ],
            "image/png": "[encoded data removed]"
          },
          "metadata": {
            "needs_background": "light"
          }
        }
      ]
    },
    {
      "cell_type": "code",
      "source": [
        "import numpy as np\n",
        "import seaborn as sns\n",
        "from sklearn.metrics import confusion_matrix\n",
        "\n",
        "# Generate predictions for the test data\n",
        "y_pred = model.predict(test_generator)\n",
        "y_pred = np.argmax(y_pred, axis=1)\n",
        "\n",
        "# Get the true labels for the test data\n",
        "y_true = test_generator.classes\n",
        "\n",
        "# Generate the confusion matrix\n",
        "cm = confusion_matrix(y_true, y_pred)\n",
        "\n",
        "# Plot the confusion matrix using seaborn heatmap\n",
        "sns.heatmap(cm, annot=True, fmt='d', cmap='Blues', \n",
        "            xticklabels=['No Tumor', 'Tumor'], \n",
        "            yticklabels=['No Tumor', 'Tumor'])\n",
        "plt.title('Confusion Matrix')\n",
        "plt.ylabel('True Label')\n",
        "plt.xlabel('Predicted Label')\n",
        "plt.show()\n"
      ],
      "metadata": {
        "id": "CFxHvE8F8Frf",
        "colab": {
          "base_uri": "https://localhost:8080/",
          "height": 312
        },
        "outputId": "5fdd044a-4555-4ff7-d68f-68effd2cbe8a"
      },
      "execution_count": 24,
      "outputs": [
        {
          "output_type": "stream",
          "name": "stdout",
          "text": [
            "57/57 [==============================] - 10s 180ms/step\n"
          ]
        },
        {
          "output_type": "display_data",
          "data": {
            "text/plain": [
              "<Figure size 432x288 with 2 Axes>"
            ],
            "image/png": "[encoded data removed]"
          },
          "metadata": {
            "needs_background": "light"
          }
        }
      ]
    },
    {
      "cell_type": "code",
      "source": [
        "X_test, y_test = test_generator.next()"
      ],
      "metadata": {
        "id": "r3--qo-D8Ji-"
      },
      "execution_count": 25,
      "outputs": []
    },
    {
      "cell_type": "code",
      "source": [
        "from sklearn.metrics import classification_report, confusion_matrix\n",
        "\n",
        "# Get the predicted labels for the test data\n",
        "y_pred = model.predict(X_test)\n",
        "\n",
        "# Convert the predicted labels to binary values (0 or 1)\n",
        "y_pred_binary = np.argmax(y_pred, axis=1)\n",
        "\n",
        "# Calculate precision, recall, sensitivity, specificity, f1 score, and f beta score\n",
        "tn, fp, fn, tp = cm.ravel()\n",
        "precision = tp / (tp + fp)\n",
        "recall = tp / (tp + fn)\n",
        "sensitivity = recall\n",
        "specificity = tn / (tn + fp)\n",
        "f1_score = 2 * (precision * recall) / (precision + recall)\n",
        "beta = 2\n",
        "f_beta_score = (1 + beta ** 2) * (precision * recall) / (beta ** 2 * precision + recall)\n",
        "\n",
        "# Print the metrics\n",
        "print(\"Precision: {:.4f}\".format(precision))\n",
        "print(\"Recall: {:.4f}\".format(recall))\n",
        "print(\"Sensitivity: {:.4f}\".format(sensitivity))\n",
        "print(\"Specificity: {:.4f}\".format(specificity))\n",
        "print(\"F1 Score: {:.4f}\".format(f1_score))\n",
        "print(\"F Beta Score: {:.4f}\".format(f_beta_score))\n"
      ],
      "metadata": {
        "id": "Tl4OFrji8KN5",
        "colab": {
          "base_uri": "https://localhost:8080/"
        },
        "outputId": "8415cd52-f8d5-4659-8621-c232e6ce14d9"
      },
      "execution_count": 26,
      "outputs": [
        {
          "output_type": "stream",
          "name": "stdout",
          "text": [
            "1/1 [==============================] - 0s 204ms/step\n",
            "Precision: 0.9910\n",
            "Recall: 0.9723\n",
            "Sensitivity: 0.9723\n",
            "Specificity: 0.9911\n",
            "F1 Score: 0.9816\n",
            "F Beta Score: 0.9760\n"
          ]
        }
      ]
    },
    {
      "cell_type": "code",
      "source": [],
      "metadata": {
        "id": "tLUZVcp1zvik"
      },
      "execution_count": null,
      "outputs": []
    }
  ]
}