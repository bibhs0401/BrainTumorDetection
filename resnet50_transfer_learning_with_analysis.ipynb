{
  "nbformat": 4,
  "nbformat_minor": 0,
  "metadata": {
    "colab": {
      "provenance": [],
      "gpuType": "T4"
    },
    "kernelspec": {
      "name": "python3",
      "display_name": "Python 3"
    },
    "language_info": {
      "name": "python"
    }
  },
  "cells": [
    {
      "cell_type": "code",
      "source": [
        "#connect google colab with google drive\n",
        "from google.colab import drive\n",
        "drive.mount(\"/content/gdrive\")\n",
        "     "
      ],
      "metadata": {
        "colab": {
          "base_uri": "https://localhost:8080/"
        },
        "id": "TyKE60CnZzcJ",
        "outputId": "a0c753ba-7872-4edc-c6e5-b980aed8b8c7"
      },
      "execution_count": 1,
      "outputs": [
        {
          "output_type": "stream",
          "name": "stdout",
          "text": [
            "Mounted at /content/gdrive\n"
          ]
        }
      ]
    },
    {
      "cell_type": "code",
      "source": [
        "#import the libraries to load dataset\n",
        "import zipfile\n",
        "import os\n",
        "\n",
        "#opens file in readmode\n",
        "zip_ref = zipfile.ZipFile('/content/gdrive/MyDrive/MajorProject/br35hdataset/train.zip')\n",
        "\n",
        "\n",
        "#extracts the files into the /MajorProject folder\n",
        "zip_ref.extractall('/content/gdrive/MyDrive/MajorProject/br35hdataset')\n",
        "\n",
        "#close the file\n",
        "zip_ref.close()"
      ],
      "metadata": {
        "id": "rZ8FjdK8fJLN"
      },
      "execution_count": 2,
      "outputs": []
    },
    {
      "cell_type": "code",
      "source": [
        "#import the libraries to load dataset\n",
        "import zipfile\n",
        "import os\n",
        "\n",
        "#opens file in readmode\n",
        "zip_ref = zipfile.ZipFile('/content/gdrive/MyDrive/MajorProject/br35hdataset/validation.zip')\n",
        "\n",
        "#extracts the files into the /MajorProject folder\n",
        "zip_ref.extractall('/content/gdrive/MyDrive/MajorProject/br35hdataset')\n",
        "\n",
        "#close the file\n",
        "zip_ref.close()\n",
        "\n"
      ],
      "metadata": {
        "id": "v6oZ8W1qfJ9g"
      },
      "execution_count": 3,
      "outputs": []
    },
    {
      "cell_type": "code",
      "source": [
        "#import the libraries to load dataset\n",
        "import zipfile\n",
        "import os\n",
        "\n",
        "#opens file in readmode\n",
        "zip_ref = zipfile.ZipFile('/content/gdrive/MyDrive/MajorProject/br35hdataset/test.zip')\n",
        "\n",
        "#extracts the files into the /MajorProject folder\n",
        "zip_ref.extractall('/content/gdrive/MyDrive/MajorProject/br35hdataset')\n",
        "\n",
        "#close the file\n",
        "zip_ref.close()"
      ],
      "metadata": {
        "id": "uSURUGIPfRt4"
      },
      "execution_count": 4,
      "outputs": []
    },
    {
      "cell_type": "code",
      "source": [
        "import os\n",
        "import glob\n",
        "\n",
        "folder_path = '/content/gdrive/MyDrive/MajorProject/br35hdataset/train'  # replace with the actual folder path\n",
        "\n",
        "yes_path = os.path.join(folder_path, 'yes')\n",
        "no_path = os.path.join(folder_path, 'no')\n",
        "\n",
        "yes_count = len(glob.glob(os.path.join(yes_path, '*.jpg')))  # replace '*.jpg' with the actual file extension of your images\n",
        "no_count = len(glob.glob(os.path.join(no_path, '*.jpg')))  # replace '*.jpg' with the actual file extension of your images\n",
        "\n",
        "print(f'Total images in \"yes\" folder: {yes_count}')\n",
        "print(f'Total images in \"no\" folder: {no_count}')\n",
        "print(yes_count+no_count)\n"
      ],
      "metadata": {
        "colab": {
          "base_uri": "https://localhost:8080/"
        },
        "id": "WDJKaAh5fxgy",
        "outputId": "552171fc-9aaf-4cab-dbb3-22d1edcd228d"
      },
      "execution_count": 5,
      "outputs": [
        {
          "output_type": "stream",
          "name": "stdout",
          "text": [
            "Total images in \"yes\" folder: 7180\n",
            "Total images in \"no\" folder: 7220\n",
            "14400\n"
          ]
        }
      ]
    },
    {
      "cell_type": "code",
      "source": [
        "# Import necessary libraries\n",
        "import tensorflow as tf\n",
        "from tensorflow.keras.preprocessing.image import ImageDataGenerator\n",
        "from tensorflow.keras.models import Model\n",
        "from tensorflow.keras.layers import Dense, GlobalAveragePooling2D\n",
        "from tensorflow.keras.optimizers import Adam\n",
        "from tensorflow.keras.applications.resnet50 import ResNet50, preprocess_input\n"
      ],
      "metadata": {
        "id": "XW0okhvFaG-M"
      },
      "execution_count": 6,
      "outputs": []
    },
    {
      "cell_type": "code",
      "source": [
        "# Define data generators for training, validation, and testing sets\n",
        "train_datagen = ImageDataGenerator(preprocessing_function=preprocess_input)\n",
        "\n",
        "valid_datagen = ImageDataGenerator(preprocessing_function=preprocess_input)\n",
        "\n",
        "test_datagen = ImageDataGenerator(preprocessing_function=preprocess_input)\n",
        "\n",
        "train_generator = train_datagen.flow_from_directory('/content/gdrive/MyDrive/MajorProject/br35hdataset/train',\n",
        "                                                    target_size=(256, 256),\n",
        "                                                    batch_size=32,\n",
        "                                                    class_mode='binary')\n",
        "\n",
        "valid_generator = valid_datagen.flow_from_directory('/content/gdrive/MyDrive/MajorProject/br35hdataset/validation',\n",
        "                                                    target_size=(256, 256),\n",
        "                                                    batch_size=32,\n",
        "                                                    class_mode='binary')\n",
        "\n",
        "test_generator = test_datagen.flow_from_directory('/content/gdrive/MyDrive/MajorProject/br35hdataset/test',\n",
        "                                                  target_size=(256, 256),\n",
        "                                                  batch_size=32,\n",
        "                                                  class_mode='binary')"
      ],
      "metadata": {
        "colab": {
          "base_uri": "https://localhost:8080/"
        },
        "id": "W0K47qkNaJzA",
        "outputId": "a5e9160b-80ce-4e09-bae0-0a33598f05c0"
      },
      "execution_count": 7,
      "outputs": [
        {
          "output_type": "stream",
          "name": "stdout",
          "text": [
            "Found 14400 images belonging to 2 classes.\n",
            "Found 1800 images belonging to 2 classes.\n",
            "Found 1800 images belonging to 2 classes.\n"
          ]
        }
      ]
    },
    {
      "cell_type": "code",
      "source": [
        "# Load pre-trained ResNet50 model without the top layer\n",
        "base_model = ResNet50(weights='imagenet', include_top=False)"
      ],
      "metadata": {
        "colab": {
          "base_uri": "https://localhost:8080/"
        },
        "id": "ZUrj4Ac4acL4",
        "outputId": "754ffb5d-b8f4-4768-cb5d-2fbd5647e9af"
      },
      "execution_count": 8,
      "outputs": [
        {
          "output_type": "stream",
          "name": "stdout",
          "text": [
            "Downloading data from https://storage.googleapis.com/tensorflow/keras-applications/resnet/resnet50_weights_tf_dim_ordering_tf_kernels_notop.h5\n",
            "94765736/94765736 [==============================] - 1s 0us/step\n"
          ]
        }
      ]
    },
    {
      "cell_type": "code",
      "source": [
        "# Add a new classification layer\n",
        "x = base_model.output\n",
        "x = GlobalAveragePooling2D()(x)\n",
        "x = Dense(256, activation='relu')(x)"
      ],
      "metadata": {
        "id": "w3Cj3581ad7z"
      },
      "execution_count": 9,
      "outputs": []
    },
    {
      "cell_type": "code",
      "source": [
        "predictions = Dense(1, activation='sigmoid')(x)"
      ],
      "metadata": {
        "id": "M6vWwibzaluC"
      },
      "execution_count": 10,
      "outputs": []
    },
    {
      "cell_type": "code",
      "source": [
        "# Freeze the pre-trained layers\n",
        "for layer in base_model.layers:\n",
        "    layer.trainable = False"
      ],
      "metadata": {
        "id": "sSgncU3DanBj"
      },
      "execution_count": 11,
      "outputs": []
    },
    {
      "cell_type": "code",
      "source": [
        "# Create a new model by combining the pre-trained ResNet50 with the new classification layer\n",
        "model = Model(inputs=base_model.input, outputs=predictions)"
      ],
      "metadata": {
        "id": "YawMwvHlaoiM"
      },
      "execution_count": 12,
      "outputs": []
    },
    {
      "cell_type": "code",
      "source": [
        "# Compile the model\n",
        "model.compile(optimizer=Adam(lr=0.0001), loss='binary_crossentropy', metrics=['accuracy'])"
      ],
      "metadata": {
        "colab": {
          "base_uri": "https://localhost:8080/"
        },
        "id": "iBBlkySvateM",
        "outputId": "ec93ea79-2da9-4207-b213-52fc7ff1f9c8"
      },
      "execution_count": 13,
      "outputs": [
        {
          "output_type": "stream",
          "name": "stderr",
          "text": [
            "WARNING:absl:`lr` is deprecated in Keras optimizer, please use `learning_rate` or use the legacy optimizer, e.g.,tf.keras.optimizers.legacy.Adam.\n"
          ]
        }
      ]
    },
    {
      "cell_type": "code",
      "source": [
        "# Train the model\n",
        "history = model.fit(train_generator, steps_per_epoch=len(train_generator), epochs=30, validation_data=valid_generator, validation_steps=len(valid_generator))"
      ],
      "metadata": {
        "colab": {
          "base_uri": "https://localhost:8080/"
        },
        "id": "8fUfnvhGavgP",
        "outputId": "71858606-48bb-484d-bec2-a15bd98dfa2a"
      },
      "execution_count": 14,
      "outputs": [
        {
          "output_type": "stream",
          "name": "stdout",
          "text": [
            "Epoch 1/30\n",
            "450/450 [==============================] - 142s 287ms/step - loss: 0.2059 - accuracy: 0.9205 - val_loss: 0.0942 - val_accuracy: 0.9689\n",
            "Epoch 2/30\n",
            "450/450 [==============================] - 120s 266ms/step - loss: 0.0754 - accuracy: 0.9730 - val_loss: 0.0746 - val_accuracy: 0.9739\n",
            "Epoch 3/30\n",
            "450/450 [==============================] - 119s 265ms/step - loss: 0.0463 - accuracy: 0.9853 - val_loss: 0.0375 - val_accuracy: 0.9861\n",
            "Epoch 4/30\n",
            "450/450 [==============================] - 118s 261ms/step - loss: 0.0311 - accuracy: 0.9897 - val_loss: 0.0227 - val_accuracy: 0.9928\n",
            "Epoch 5/30\n",
            "450/450 [==============================] - 120s 266ms/step - loss: 0.0235 - accuracy: 0.9930 - val_loss: 0.0355 - val_accuracy: 0.9872\n",
            "Epoch 6/30\n",
            "450/450 [==============================] - 118s 261ms/step - loss: 0.0185 - accuracy: 0.9937 - val_loss: 0.0435 - val_accuracy: 0.9828\n",
            "Epoch 7/30\n",
            "450/450 [==============================] - 121s 269ms/step - loss: 0.0187 - accuracy: 0.9939 - val_loss: 0.0210 - val_accuracy: 0.9922\n",
            "Epoch 8/30\n",
            "450/450 [==============================] - 127s 282ms/step - loss: 0.0063 - accuracy: 0.9983 - val_loss: 0.0146 - val_accuracy: 0.9950\n",
            "Epoch 9/30\n",
            "450/450 [==============================] - 126s 280ms/step - loss: 0.0088 - accuracy: 0.9972 - val_loss: 0.0377 - val_accuracy: 0.9817\n",
            "Epoch 10/30\n",
            "450/450 [==============================] - 120s 266ms/step - loss: 0.0102 - accuracy: 0.9968 - val_loss: 0.0145 - val_accuracy: 0.9944\n",
            "Epoch 11/30\n",
            "450/450 [==============================] - 119s 265ms/step - loss: 7.7556e-04 - accuracy: 1.0000 - val_loss: 0.0105 - val_accuracy: 0.9961\n",
            "Epoch 12/30\n",
            "450/450 [==============================] - 121s 268ms/step - loss: 4.1181e-04 - accuracy: 1.0000 - val_loss: 0.0123 - val_accuracy: 0.9961\n",
            "Epoch 13/30\n",
            "450/450 [==============================] - 123s 274ms/step - loss: 2.6602e-04 - accuracy: 1.0000 - val_loss: 0.0092 - val_accuracy: 0.9972\n",
            "Epoch 14/30\n",
            "450/450 [==============================] - 119s 265ms/step - loss: 2.1034e-04 - accuracy: 1.0000 - val_loss: 0.0099 - val_accuracy: 0.9967\n",
            "Epoch 15/30\n",
            "450/450 [==============================] - 123s 274ms/step - loss: 1.5308e-04 - accuracy: 1.0000 - val_loss: 0.0100 - val_accuracy: 0.9967\n",
            "Epoch 16/30\n",
            "450/450 [==============================] - 122s 271ms/step - loss: 1.1602e-04 - accuracy: 1.0000 - val_loss: 0.0093 - val_accuracy: 0.9967\n",
            "Epoch 17/30\n",
            "450/450 [==============================] - 119s 265ms/step - loss: 1.0616e-04 - accuracy: 1.0000 - val_loss: 0.0096 - val_accuracy: 0.9967\n",
            "Epoch 18/30\n",
            "450/450 [==============================] - 117s 261ms/step - loss: 7.6164e-05 - accuracy: 1.0000 - val_loss: 0.0092 - val_accuracy: 0.9967\n",
            "Epoch 19/30\n",
            "450/450 [==============================] - 118s 263ms/step - loss: 6.2260e-05 - accuracy: 1.0000 - val_loss: 0.0098 - val_accuracy: 0.9961\n",
            "Epoch 20/30\n",
            "450/450 [==============================] - 119s 264ms/step - loss: 5.4427e-05 - accuracy: 1.0000 - val_loss: 0.0097 - val_accuracy: 0.9972\n",
            "Epoch 21/30\n",
            "450/450 [==============================] - 121s 270ms/step - loss: 4.5055e-05 - accuracy: 1.0000 - val_loss: 0.0098 - val_accuracy: 0.9950\n",
            "Epoch 22/30\n",
            "450/450 [==============================] - 119s 264ms/step - loss: 3.7588e-05 - accuracy: 1.0000 - val_loss: 0.0106 - val_accuracy: 0.9961\n",
            "Epoch 23/30\n",
            "450/450 [==============================] - 119s 264ms/step - loss: 2.8241e-05 - accuracy: 1.0000 - val_loss: 0.0089 - val_accuracy: 0.9961\n",
            "Epoch 24/30\n",
            "450/450 [==============================] - 120s 265ms/step - loss: 2.3261e-05 - accuracy: 1.0000 - val_loss: 0.0088 - val_accuracy: 0.9961\n",
            "Epoch 25/30\n",
            "450/450 [==============================] - 123s 273ms/step - loss: 1.6248e-05 - accuracy: 1.0000 - val_loss: 0.0111 - val_accuracy: 0.9950\n",
            "Epoch 26/30\n",
            "450/450 [==============================] - 121s 268ms/step - loss: 1.2800e-05 - accuracy: 1.0000 - val_loss: 0.0088 - val_accuracy: 0.9972\n",
            "Epoch 27/30\n",
            "450/450 [==============================] - 119s 264ms/step - loss: 1.0462e-05 - accuracy: 1.0000 - val_loss: 0.0097 - val_accuracy: 0.9956\n",
            "Epoch 28/30\n",
            "450/450 [==============================] - 120s 268ms/step - loss: 7.9952e-06 - accuracy: 1.0000 - val_loss: 0.0093 - val_accuracy: 0.9967\n",
            "Epoch 29/30\n",
            "450/450 [==============================] - 120s 267ms/step - loss: 6.5209e-06 - accuracy: 1.0000 - val_loss: 0.0098 - val_accuracy: 0.9961\n",
            "Epoch 30/30\n",
            "450/450 [==============================] - 120s 266ms/step - loss: 6.5247e-06 - accuracy: 1.0000 - val_loss: 0.0093 - val_accuracy: 0.9967\n"
          ]
        }
      ]
    },
    {
      "cell_type": "code",
      "source": [
        "# Save the model\n",
        "model.save('/content/gdrive/MyDrive/MajorProject/resnet.h5')"
      ],
      "metadata": {
        "id": "Yg3ywlIgbmym"
      },
      "execution_count": 24,
      "outputs": []
    },
    {
      "cell_type": "code",
      "source": [
        "from tensorflow.keras.models import load_model\n",
        "\n",
        "# Load the saved model\n",
        "resnet_model = load_model('/content/gdrive/MyDrive/MajorProject/resnet.h5')"
      ],
      "metadata": {
        "id": "3FeqVq8BgcDp"
      },
      "execution_count": 25,
      "outputs": []
    },
    {
      "cell_type": "code",
      "source": [
        "# Evaluate the model on the test set\n",
        "test_loss, test_acc = model.evaluate(test_generator, steps=len(test_generator))\n",
        "print('Test accuracy:', test_acc)"
      ],
      "metadata": {
        "id": "FinIGlhGaw17",
        "colab": {
          "base_uri": "https://localhost:8080/"
        },
        "outputId": "f969cada-a5bc-4569-c697-6f12e62469f7"
      },
      "execution_count": 17,
      "outputs": [
        {
          "output_type": "stream",
          "name": "stdout",
          "text": [
            "57/57 [==============================] - 13s 229ms/step - loss: 0.0162 - accuracy: 0.9967\n",
            "Test accuracy: 0.996666669845581\n"
          ]
        }
      ]
    },
    {
      "cell_type": "code",
      "source": [
        "import numpy as np\n",
        "import matplotlib.pyplot as plt\n",
        "from sklearn.metrics import classification_report, confusion_matrix\n",
        "\n",
        "# Make predictions on test set\n",
        "y_pred = model.predict(test_generator)\n",
        "y_pred = np.round(y_pred)\n",
        "\n",
        "# Generate confusion matrix\n",
        "cm = confusion_matrix(test_generator.classes, y_pred)\n",
        "\n",
        "print(cm)\n",
        "\n",
        "# Define class names\n",
        "class_names = ['No Tumor', 'Tumor']\n",
        "\n",
        "# Plot confusion matrix\n",
        "plt.imshow(cm, cmap=plt.cm.Blues)\n",
        "plt.title('Confusion Matrix')\n",
        "plt.xticks(np.arange(len(class_names)), class_names, rotation=45)\n",
        "plt.yticks(np.arange(len(class_names)), class_names)\n",
        "plt.xlabel('Predicted Label')\n",
        "plt.ylabel('True Label')\n",
        "plt.colorbar()\n",
        "for i in range(len(class_names)):\n",
        "    for j in range(len(class_names)):\n",
        "        plt.text(j, i, format(cm[i, j], 'd'), horizontalalignment=\"center\", color=\"black\" if cm[i, j] > cm.max() / 2 else \"black\")\n",
        "plt.show()\n",
        "\n"
      ],
      "metadata": {
        "colab": {
          "base_uri": "https://localhost:8080/",
          "height": 569
        },
        "id": "ijLamV2pfhvN",
        "outputId": "8ef40258-a85c-44e1-9daf-61a93211f61f"
      },
      "execution_count": 26,
      "outputs": [
        {
          "output_type": "stream",
          "name": "stdout",
          "text": [
            "57/57 [==============================] - 18s 308ms/step\n",
            "[[448 448]\n",
            " [444 460]]\n"
          ]
        },
        {
          "output_type": "display_data",
          "data": {
            "text/plain": [
              "<Figure size 640x480 with 2 Axes>"
            ],
            "image/png": "[encoded data removed]"
          },
          "metadata": {}
        }
      ]
    },
    {
      "cell_type": "code",
      "source": [
        "from tensorflow.keras.preprocessing.image import ImageDataGenerator\n",
        "\n",
        "test_datagen = ImageDataGenerator(preprocessing_function=preprocess_input)\n",
        "test_generator = test_datagen.flow_from_directory('/content/gdrive/MyDrive/MajorProject/br35hdataset/test',\n",
        "                                                  target_size=(256, 256),\n",
        "                                                  batch_size=32,\n",
        "                                                  class_mode='binary')"
      ],
      "metadata": {
        "colab": {
          "base_uri": "https://localhost:8080/"
        },
        "id": "TXfWjl8Z1S6s",
        "outputId": "9dbb4418-a5b4-416a-f0b7-c13c691c63fb"
      },
      "execution_count": 27,
      "outputs": [
        {
          "output_type": "stream",
          "name": "stdout",
          "text": [
            "Found 1800 images belonging to 2 classes.\n"
          ]
        }
      ]
    },
    {
      "cell_type": "code",
      "source": [
        "# Make predictions on test set\n",
        "y_pred = resnet_model.predict(test_generator)\n"
      ],
      "metadata": {
        "id": "qxzcmcWefmkl",
        "colab": {
          "base_uri": "https://localhost:8080/"
        },
        "outputId": "c5b14c41-2ba8-4995-e50b-89eb258b0225"
      },
      "execution_count": 28,
      "outputs": [
        {
          "output_type": "stream",
          "name": "stdout",
          "text": [
            "57/57 [==============================] - 15s 233ms/step\n"
          ]
        }
      ]
    },
    {
      "cell_type": "code",
      "source": [
        "import numpy as np\n",
        "from sklearn.metrics import classification_report, confusion_matrix\n",
        "y_pred = np.round(y_pred)\n",
        "from sklearn.metrics import classification_report, confusion_matrix\n",
        "\n",
        "\n",
        "# Convert the predicted labels to binary values (0 or 1)\n",
        "y_pred_binary = np.argmax(y_pred, axis=1)\n",
        "# Generate confusion matrix\n",
        "cm = confusion_matrix(test_generator.classes, y_pred)\n",
        "# Calculate precision, recall, sensitivity, specificity, f1 score, and f beta score\n",
        "tn, fp, fn, tp = cm.ravel()\n",
        "precision = tp / (tp + fp)\n",
        "recall = tp / (tp + fn)\n",
        "sensitivity = recall\n",
        "specificity = tn / (tn + fp)\n",
        "f1_score = 2 * (precision * recall) / (precision + recall)\n",
        "beta = 2\n",
        "f_beta_score = (1 + beta ** 2) * (precision * recall) / (beta ** 2 * precision + recall)\n",
        "\n",
        "# Print the metrics\n",
        "print(\"Precision: {:.4f}\".format(precision))\n",
        "print(\"Recall: {:.4f}\".format(recall))\n",
        "print(\"Sensitivity: {:.4f}\".format(sensitivity))\n",
        "print(\"Specificity: {:.4f}\".format(specificity))\n",
        "print(\"F1 Score: {:.4f}\".format(f1_score))\n",
        "print(\"F Beta Score: {:.4f}\".format(f_beta_score))\n"
      ],
      "metadata": {
        "colab": {
          "base_uri": "https://localhost:8080/"
        },
        "id": "_mw3sMqn23xr",
        "outputId": "372572e0-44df-418d-e8c1-5ac9b60cbd50"
      },
      "execution_count": 29,
      "outputs": [
        {
          "output_type": "stream",
          "name": "stdout",
          "text": [
            "Precision: 0.4912\n",
            "Recall: 0.4934\n",
            "Sensitivity: 0.4934\n",
            "Specificity: 0.4844\n",
            "F1 Score: 0.4923\n",
            "F Beta Score: 0.4929\n"
          ]
        }
      ]
    },
    {
      "cell_type": "code",
      "source": [
        "# Plot training vs test accuracy and loss, and training vs validation accuracy and loss\n",
        "plt.figure(figsize=(12, 4))\n",
        "plt.subplot(1, 2, 1)\n",
        "plt.plot(history.history['accuracy'])\n",
        "plt.plot(history.history['val_accuracy'])\n",
        "plt.title('Model Accuracy')\n",
        "plt.xlabel('Epoch')\n",
        "plt.ylabel('Accuracy')\n",
        "plt.legend(['Train', 'Validation'], loc='lower right')\n",
        "\n",
        "plt.subplot(1, 2, 2)\n",
        "plt.plot(history.history['loss'])\n",
        "plt.plot(history.history['val_loss'])\n",
        "plt.title('Model Loss')\n",
        "plt.xlabel('Epoch')\n",
        "plt.ylabel('Loss')\n",
        "plt.legend(['Train', 'Validation'], loc='upper right')\n",
        "plt.show()"
      ],
      "metadata": {
        "colab": {
          "base_uri": "https://localhost:8080/",
          "height": 410
        },
        "id": "xKp9V5nSfstK",
        "outputId": "38b843de-c48e-43a0-ec1b-b9eb38f1b93d"
      },
      "execution_count": 30,
      "outputs": [
        {
          "output_type": "display_data",
          "data": {
            "text/plain": [
              "<Figure size 1200x400 with 2 Axes>"
            ],
            "image/png": "[encoded data removed]"
          },
          "metadata": {}
        }
      ]
    },
    {
      "cell_type": "code",
      "source": [],
      "metadata": {
        "id": "mddta63Zs9K3"
      },
      "execution_count": null,
      "outputs": []
    }
  ]
}