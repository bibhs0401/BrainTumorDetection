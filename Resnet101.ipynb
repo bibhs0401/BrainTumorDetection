{
  "nbformat": 4,
  "nbformat_minor": 0,
  "metadata": {
    "colab": {
      "provenance": [],
      "gpuType": "T4"
    },
    "kernelspec": {
      "name": "python3",
      "display_name": "Python 3"
    },
    "language_info": {
      "name": "python"
    }
  },
  "cells": [
    {
      "cell_type": "code",
      "source": [
        "#connect google colab with google drive\n",
        "from google.colab import drive\n",
        "drive.mount(\"/content/gdrive\")"
      ],
      "metadata": {
        "colab": {
          "base_uri": "https://localhost:8080/"
        },
        "id": "dWw-y7DlUavy",
        "outputId": "7c913056-6a3f-4ee0-f294-b10560279787"
      },
      "execution_count": null,
      "outputs": [
        {
          "output_type": "stream",
          "name": "stdout",
          "text": [
            "Mounted at /content/gdrive\n"
          ]
        }
      ]
    },
    {
      "cell_type": "code",
      "source": [
        "\n",
        "#import the libraries to load dataset\n",
        "import zipfile\n",
        "import os\n",
        "\n",
        "#opens file in readmode\n",
        "zip_ref = zipfile.ZipFile('/content/gdrive/MyDrive/MajorProject/br35hdataset/train.zip')\n",
        "\n",
        "\n",
        "#extracts the files into the /MajorProject folder\n",
        "zip_ref.extractall('/content/gdrive/MyDrive/MajorProject/br35hdataset')\n",
        "\n",
        "#close the file\n",
        "zip_ref.close()"
      ],
      "metadata": {
        "id": "ygT5orOREU9_"
      },
      "execution_count": null,
      "outputs": []
    },
    {
      "cell_type": "code",
      "source": [
        "#import the libraries to load dataset\n",
        "import zipfile\n",
        "import os\n",
        "\n",
        "#opens file in readmode\n",
        "zip_ref = zipfile.ZipFile('/content/gdrive/MyDrive/MajorProject/br35hdataset/test.zip')\n",
        "\n",
        "#extracts the files into the /MajorProject folder\n",
        "zip_ref.extractall('/content/gdrive/MyDrive/MajorProject/br35hdataset')\n",
        "\n",
        "#close the file\n",
        "zip_ref.close()"
      ],
      "metadata": {
        "id": "cbQFCrFlEbfD"
      },
      "execution_count": null,
      "outputs": []
    },
    {
      "cell_type": "code",
      "source": [
        "#import the libraries to load dataset\n",
        "import zipfile\n",
        "import os\n",
        "\n",
        "#opens file in readmode\n",
        "zip_ref = zipfile.ZipFile('/content/gdrive/MyDrive/MajorProject/br35hdataset/validation.zip')\n",
        "\n",
        "#extracts the files into the /MajorProject folder\n",
        "zip_ref.extractall('/content/gdrive/MyDrive/MajorProject/br35hdataset')\n",
        "\n",
        "#close the file\n",
        "zip_ref.close()"
      ],
      "metadata": {
        "id": "7w6Q8eCaEWAX"
      },
      "execution_count": null,
      "outputs": []
    },
    {
      "cell_type": "code",
      "source": [
        "import os\n",
        "import glob\n",
        "\n",
        "folder_path = '/content/gdrive/MyDrive/MajorProject/br35hdataset/train'  # replace with the actual folder path\n",
        "\n",
        "yes_path = os.path.join(folder_path, 'yes')\n",
        "no_path = os.path.join(folder_path, 'no')\n",
        "\n",
        "yes_count = len(glob.glob(os.path.join(yes_path, '*.jpg')))  # replace '*.jpg' with the actual file extension of your images\n",
        "no_count = len(glob.glob(os.path.join(no_path, '*.jpg')))  # replace '*.jpg' with the actual file extension of your images\n",
        "\n",
        "print(f'Total images in \"yes\" folder: {yes_count}')\n",
        "print(f'Total images in \"no\" folder: {no_count}')\n",
        "print(yes_count+no_count)\n"
      ],
      "metadata": {
        "colab": {
          "base_uri": "https://localhost:8080/"
        },
        "id": "0pGjRUjVEkyh",
        "outputId": "4f187d2f-1c69-4db1-84d7-809e76ffff85"
      },
      "execution_count": null,
      "outputs": [
        {
          "output_type": "stream",
          "name": "stdout",
          "text": [
            "Total images in \"yes\" folder: 7180\n",
            "Total images in \"no\" folder: 7220\n",
            "14400\n"
          ]
        }
      ]
    },
    {
      "cell_type": "code",
      "source": [
        "from tensorflow.keras.applications import ResNet101\n",
        "from tensorflow.keras.models import Sequential\n",
        "from tensorflow.keras.layers import Dense, Flatten\n",
        "from tensorflow.keras.preprocessing.image import ImageDataGenerator"
      ],
      "metadata": {
        "id": "jC4CraFXUJvT"
      },
      "execution_count": null,
      "outputs": []
    },
    {
      "cell_type": "code",
      "source": [
        "# Set the image size and batch size\n",
        "img_size = (256, 256)\n",
        "batch_size = 32"
      ],
      "metadata": {
        "id": "q7_DKNWgUMc5"
      },
      "execution_count": null,
      "outputs": []
    },
    {
      "cell_type": "code",
      "source": [
        "# Define data paths\n",
        "train_path = '/content/gdrive/MyDrive/MajorProject/br35hdataset/train'\n",
        "test_path = '/content/gdrive/MyDrive/MajorProject/br35hdataset/test'\n",
        "val_path = '/content/gdrive/MyDrive/MajorProject/br35hdataset/validation'"
      ],
      "metadata": {
        "id": "uJ6lSvcCUQXQ"
      },
      "execution_count": null,
      "outputs": []
    },
    {
      "cell_type": "code",
      "source": [
        "# Create data generators with data augmentation\n",
        "train_datagen = ImageDataGenerator(\n",
        "    rescale=1.0/255\n",
        ")\n",
        "\n",
        "test_datagen = ImageDataGenerator(rescale=1.0/255)\n",
        "val_datagen = ImageDataGenerator(rescale=1.0/255)\n",
        "\n",
        "train_generator = train_datagen.flow_from_directory(\n",
        "    train_path,\n",
        "    target_size=img_size,\n",
        "    batch_size=batch_size,\n",
        "    class_mode='categorical'\n",
        ")\n",
        "\n",
        "test_generator = test_datagen.flow_from_directory(\n",
        "    test_path,\n",
        "    target_size=img_size,\n",
        "    batch_size=batch_size,\n",
        "    class_mode='categorical',\n",
        "    shuffle=False\n",
        ")\n",
        "\n",
        "val_generator = val_datagen.flow_from_directory(\n",
        "    val_path,\n",
        "    target_size=img_size,\n",
        "    batch_size=batch_size,\n",
        "    class_mode='categorical'\n",
        ")"
      ],
      "metadata": {
        "colab": {
          "base_uri": "https://localhost:8080/"
        },
        "id": "124_cH55UkYL",
        "outputId": "9dbf93b5-15cf-4902-f1b2-71d744e73d6f"
      },
      "execution_count": null,
      "outputs": [
        {
          "output_type": "stream",
          "name": "stdout",
          "text": [
            "Found 14400 images belonging to 2 classes.\n",
            "Found 1800 images belonging to 2 classes.\n",
            "Found 1800 images belonging to 2 classes.\n"
          ]
        }
      ]
    },
    {
      "cell_type": "code",
      "source": [
        "# Load the pretrained ResNet101 model without the top (fully connected) layers\n",
        "base_model = ResNet101(weights='imagenet', include_top=False, input_shape=(256, 256, 3))"
      ],
      "metadata": {
        "colab": {
          "base_uri": "https://localhost:8080/"
        },
        "id": "0ujwn26MUmid",
        "outputId": "3746a4d8-d967-40ad-fe01-221c4f8458a9"
      },
      "execution_count": null,
      "outputs": [
        {
          "output_type": "stream",
          "name": "stdout",
          "text": [
            "Downloading data from https://storage.googleapis.com/tensorflow/keras-applications/resnet/resnet101_weights_tf_dim_ordering_tf_kernels_notop.h5\n",
            "171446536/171446536 [==============================] - 5s 0us/step\n"
          ]
        }
      ]
    },
    {
      "cell_type": "code",
      "source": [
        "# Create a new model and add the base model and new fully connected layers\n",
        "model = Sequential()\n",
        "model.add(base_model)\n",
        "model.add(Flatten())\n",
        "model.add(Dense(256, activation='relu'))\n",
        "model.add(Dense(2, activation='softmax'))  # 2 classes: 'yes' and 'no'"
      ],
      "metadata": {
        "id": "LIhMHeMRUrgg"
      },
      "execution_count": null,
      "outputs": []
    },
    {
      "cell_type": "code",
      "source": [
        "# Freeze the base model layers\n",
        "base_model.trainable = False\n",
        "\n",
        "# Compile the model\n",
        "model.compile(optimizer='adam', loss='categorical_crossentropy', metrics=['accuracy'])\n"
      ],
      "metadata": {
        "id": "CLIGav9WUzhD"
      },
      "execution_count": null,
      "outputs": []
    },
    {
      "cell_type": "code",
      "source": [
        "# Train the model\n",
        "num_epochs = 30\n",
        "steps_per_epoch = train_generator.samples // batch_size\n",
        "val_steps = val_generator.samples // batch_size"
      ],
      "metadata": {
        "id": "LVFwjUL-U1WD"
      },
      "execution_count": null,
      "outputs": []
    },
    {
      "cell_type": "code",
      "source": [
        "history = model.fit(\n",
        "    train_generator,\n",
        "    epochs=num_epochs,\n",
        "    steps_per_epoch=steps_per_epoch,\n",
        "    validation_data=val_generator,\n",
        "    validation_steps=val_steps\n",
        ")"
      ],
      "metadata": {
        "colab": {
          "base_uri": "https://localhost:8080/"
        },
        "id": "Q4f_NMvHU3dY",
        "outputId": "c97d21db-978c-43e9-f899-8bb5230bf64a"
      },
      "execution_count": null,
      "outputs": [
        {
          "output_type": "stream",
          "name": "stdout",
          "text": [
            "Epoch 1/30\n",
            "450/450 [==============================] - 142s 281ms/step - loss: 1.0447 - accuracy: 0.7785 - val_loss: 0.4758 - val_accuracy: 0.7757\n",
            "Epoch 2/30\n",
            "450/450 [==============================] - 123s 273ms/step - loss: 0.3025 - accuracy: 0.8687 - val_loss: 0.2354 - val_accuracy: 0.9068\n",
            "Epoch 3/30\n",
            "450/450 [==============================] - 124s 276ms/step - loss: 0.3064 - accuracy: 0.8705 - val_loss: 0.2169 - val_accuracy: 0.9146\n",
            "Epoch 4/30\n",
            "450/450 [==============================] - 128s 284ms/step - loss: 0.2038 - accuracy: 0.9173 - val_loss: 0.2435 - val_accuracy: 0.8962\n",
            "Epoch 5/30\n",
            "450/450 [==============================] - 121s 268ms/step - loss: 0.1913 - accuracy: 0.9206 - val_loss: 0.3640 - val_accuracy: 0.8365\n",
            "Epoch 6/30\n",
            "450/450 [==============================] - 127s 282ms/step - loss: 0.1570 - accuracy: 0.9360 - val_loss: 0.1707 - val_accuracy: 0.9353\n",
            "Epoch 7/30\n",
            "450/450 [==============================] - 128s 284ms/step - loss: 0.1680 - accuracy: 0.9324 - val_loss: 0.2380 - val_accuracy: 0.9079\n",
            "Epoch 8/30\n",
            "450/450 [==============================] - 130s 288ms/step - loss: 0.1747 - accuracy: 0.9275 - val_loss: 0.1941 - val_accuracy: 0.9241\n",
            "Epoch 9/30\n",
            "450/450 [==============================] - 123s 272ms/step - loss: 0.1719 - accuracy: 0.9291 - val_loss: 0.1782 - val_accuracy: 0.9302\n",
            "Epoch 10/30\n",
            "450/450 [==============================] - 120s 266ms/step - loss: 0.1306 - accuracy: 0.9493 - val_loss: 0.2096 - val_accuracy: 0.9280\n",
            "Epoch 11/30\n",
            "450/450 [==============================] - 122s 272ms/step - loss: 0.1147 - accuracy: 0.9533 - val_loss: 0.4879 - val_accuracy: 0.8231\n",
            "Epoch 12/30\n",
            "450/450 [==============================] - 127s 282ms/step - loss: 0.0917 - accuracy: 0.9668 - val_loss: 0.1633 - val_accuracy: 0.9353\n",
            "Epoch 13/30\n",
            "450/450 [==============================] - 122s 271ms/step - loss: 0.0870 - accuracy: 0.9657 - val_loss: 0.1395 - val_accuracy: 0.9487\n",
            "Epoch 14/30\n",
            "450/450 [==============================] - 122s 270ms/step - loss: 0.1162 - accuracy: 0.9548 - val_loss: 0.1612 - val_accuracy: 0.9392\n",
            "Epoch 15/30\n",
            "450/450 [==============================] - 128s 283ms/step - loss: 0.1386 - accuracy: 0.9507 - val_loss: 0.1347 - val_accuracy: 0.9509\n",
            "Epoch 16/30\n",
            "450/450 [==============================] - 123s 273ms/step - loss: 0.1015 - accuracy: 0.9613 - val_loss: 0.1378 - val_accuracy: 0.9492\n",
            "Epoch 17/30\n",
            "450/450 [==============================] - 124s 274ms/step - loss: 0.0865 - accuracy: 0.9667 - val_loss: 0.1323 - val_accuracy: 0.9554\n",
            "Epoch 18/30\n",
            "450/450 [==============================] - 128s 284ms/step - loss: 0.0613 - accuracy: 0.9780 - val_loss: 0.1300 - val_accuracy: 0.9593\n",
            "Epoch 19/30\n",
            "450/450 [==============================] - 127s 283ms/step - loss: 0.0817 - accuracy: 0.9697 - val_loss: 0.1231 - val_accuracy: 0.9587\n",
            "Epoch 20/30\n",
            "450/450 [==============================] - 126s 280ms/step - loss: 0.0715 - accuracy: 0.9733 - val_loss: 0.1389 - val_accuracy: 0.9509\n",
            "Epoch 21/30\n",
            "450/450 [==============================] - 123s 272ms/step - loss: 0.0524 - accuracy: 0.9801 - val_loss: 0.2492 - val_accuracy: 0.9152\n",
            "Epoch 22/30\n",
            "450/450 [==============================] - 128s 285ms/step - loss: 0.1241 - accuracy: 0.9478 - val_loss: 0.2424 - val_accuracy: 0.9124\n",
            "Epoch 23/30\n",
            "450/450 [==============================] - 122s 270ms/step - loss: 0.0808 - accuracy: 0.9700 - val_loss: 0.2729 - val_accuracy: 0.9202\n",
            "Epoch 24/30\n",
            "450/450 [==============================] - 128s 284ms/step - loss: 0.0578 - accuracy: 0.9780 - val_loss: 0.1328 - val_accuracy: 0.9593\n",
            "Epoch 25/30\n",
            "450/450 [==============================] - 123s 273ms/step - loss: 0.1056 - accuracy: 0.9625 - val_loss: 0.8682 - val_accuracy: 0.8315\n",
            "Epoch 26/30\n",
            "450/450 [==============================] - 122s 271ms/step - loss: 0.0935 - accuracy: 0.9634 - val_loss: 0.1971 - val_accuracy: 0.9330\n",
            "Epoch 27/30\n",
            "450/450 [==============================] - 121s 269ms/step - loss: 0.0344 - accuracy: 0.9881 - val_loss: 0.1486 - val_accuracy: 0.9492\n",
            "Epoch 28/30\n",
            "450/450 [==============================] - 127s 283ms/step - loss: 0.0431 - accuracy: 0.9849 - val_loss: 0.3521 - val_accuracy: 0.8956\n",
            "Epoch 29/30\n",
            "450/450 [==============================] - 122s 271ms/step - loss: 0.0497 - accuracy: 0.9815 - val_loss: 0.1368 - val_accuracy: 0.9632\n",
            "Epoch 30/30\n",
            "450/450 [==============================] - 126s 280ms/step - loss: 0.0672 - accuracy: 0.9747 - val_loss: 0.1430 - val_accuracy: 0.9609\n"
          ]
        }
      ]
    },
    {
      "cell_type": "code",
      "execution_count": null,
      "metadata": {
        "id": "Hkfy6jDAUFvV",
        "colab": {
          "base_uri": "https://localhost:8080/"
        },
        "outputId": "1a9f8902-7e3f-4dd6-bec3-bf6e1eb48819"
      },
      "outputs": [
        {
          "output_type": "stream",
          "name": "stdout",
          "text": [
            "56/56 [==============================] - 15s 256ms/step - loss: 0.1374 - accuracy: 0.9593\n",
            "Test Loss: 0.13737984001636505\n",
            "Test Accuracy: 0.9592633843421936\n"
          ]
        }
      ],
      "source": [
        "# Evaluate the model on the test set\n",
        "test_steps = test_generator.samples // batch_size\n",
        "test_loss, test_accuracy = model.evaluate(test_generator, steps=test_steps)\n",
        "print('Test Loss:', test_loss)\n",
        "print('Test Accuracy:', test_accuracy)\n"
      ]
    },
    {
      "cell_type": "code",
      "source": [
        "# Save the model\n",
        "model.save('/content/gdrive/MyDrive/MajorProject/resnet101.h5')"
      ],
      "metadata": {
        "id": "3VfliaADVANP"
      },
      "execution_count": null,
      "outputs": []
    },
    {
      "cell_type": "code",
      "source": [
        "from tensorflow.keras.models import load_model\n",
        "\n",
        "# Load the saved model\n",
        "\n",
        "resnet101_model = load_model('/content/gdrive/MyDrive/MajorProject/resnet101.h5')"
      ],
      "metadata": {
        "id": "OVIe9nbeVG17"
      },
      "execution_count": null,
      "outputs": []
    },
    {
      "cell_type": "code",
      "source": [
        "import matplotlib.pyplot as plt\n",
        "\n",
        "# Plot training vs test accuracy and loss, and training vs validation accuracy and loss\n",
        "plt.figure(figsize=(12, 4))\n",
        "plt.subplot(1, 2, 1)\n",
        "plt.plot(history.history['accuracy'])\n",
        "plt.plot(history.history['val_accuracy'])\n",
        "plt.title('Model Accuracy')\n",
        "plt.xlabel('Epoch')\n",
        "plt.ylabel('Accuracy')\n",
        "plt.legend(['Train', 'Validation'], loc='lower right')\n",
        "\n",
        "plt.subplot(1, 2, 2)\n",
        "plt.plot(history.history['loss'])\n",
        "plt.plot(history.history['val_loss'])\n",
        "plt.title('Model Loss')\n",
        "plt.xlabel('Epoch')\n",
        "plt.ylabel('Loss')\n",
        "plt.legend(['Train', 'Validation'], loc='upper right')\n",
        "plt.show()"
      ],
      "metadata": {
        "colab": {
          "base_uri": "https://localhost:8080/",
          "height": 410
        },
        "id": "m94AqCp-LPya",
        "outputId": "fcb3e858-eee5-459f-df65-d3f755f05ca7"
      },
      "execution_count": null,
      "outputs": [
        {
          "output_type": "display_data",
          "data": {
            "text/plain": [
              "<Figure size 1200x400 with 2 Axes>"
            ],
            "image/png": "[encoded data removed]"
          },
          "metadata": {}
        }
      ]
    },
    {
      "cell_type": "code",
      "source": [
        "import numpy as np\n",
        "from sklearn.metrics import classification_report, confusion_matrix\n",
        "\n",
        "# Predict the classes for the test set\n",
        "test_steps = test_generator.samples // batch_size\n",
        "predictions = model.predict(test_generator, steps=test_steps)\n",
        "y_pred = np.argmax(predictions, axis=1)\n",
        "y_true = test_generator.classes\n",
        "\n",
        "# Calculate confusion matrix\n",
        "cm = confusion_matrix(y_true, y_pred)\n",
        "\n",
        "# Extract true negatives, false positives, false negatives, true positives\n",
        "tn, fp, fn, tp = cm.ravel()\n",
        "\n",
        "# Calculate metrics\n",
        "accuracy = (tp + tn) / (tp + tn + fp + fn)\n",
        "precision = tp / (tp + fp)\n",
        "recall = tp / (tp + fn)\n",
        "specificity = tn / (tn + fp)\n",
        "f1_score = 2 * (precision * recall) / (precision + recall)\n",
        "\n",
        "beta = 0.5  # F-beta score with beta = 0.5\n",
        "fbeta_score = ((1 + beta**2) * precision * recall) / ((beta**2 * precision) + recall)\n",
        "\n",
        "# Print the metrics\n",
        "print(\"Accuracy:\", accuracy)\n",
        "print(\"Precision:\", precision)\n",
        "print(\"Recall (Sensitivity):\", recall)\n",
        "print(\"Specificity:\", specificity)\n",
        "print(\"F1 Score:\", f1_score)\n",
        "print(\"F-beta Score (beta = 0.5):\", fbeta_score)\n"
      ],
      "metadata": {
        "colab": {
          "base_uri": "https://localhost:8080/",
          "height": 417
        },
        "id": "dI1PZ2G0LW8A",
        "outputId": "6424f655-4a7c-4fa6-d845-fd7d9cc51f01"
      },
      "execution_count": null,
      "outputs": [
        {
          "output_type": "stream",
          "name": "stdout",
          "text": [
            "56/56 [==============================] - 17s 244ms/step\n"
          ]
        },
        {
          "output_type": "error",
          "ename": "ValueError",
          "evalue": "ignored",
          "traceback": [
            "\u001b[0;31m---------------------------------------------------------------------------\u001b[0m",
            "\u001b[0;31mValueError\u001b[0m                                Traceback (most recent call last)",
            "\u001b[0;32m<ipython-input-24-3c935d0eaabb>\u001b[0m in \u001b[0;36m<cell line: 11>\u001b[0;34m()\u001b[0m\n\u001b[1;32m      9\u001b[0m \u001b[0;34m\u001b[0m\u001b[0m\n\u001b[1;32m     10\u001b[0m \u001b[0;31m# Calculate confusion matrix\u001b[0m\u001b[0;34m\u001b[0m\u001b[0;34m\u001b[0m\u001b[0m\n\u001b[0;32m---> 11\u001b[0;31m \u001b[0mcm\u001b[0m \u001b[0;34m=\u001b[0m \u001b[0mconfusion_matrix\u001b[0m\u001b[0;34m(\u001b[0m\u001b[0my_true\u001b[0m\u001b[0;34m,\u001b[0m \u001b[0my_pred\u001b[0m\u001b[0;34m)\u001b[0m\u001b[0;34m\u001b[0m\u001b[0;34m\u001b[0m\u001b[0m\n\u001b[0m\u001b[1;32m     12\u001b[0m \u001b[0;34m\u001b[0m\u001b[0m\n\u001b[1;32m     13\u001b[0m \u001b[0;31m# Extract true negatives, false positives, false negatives, true positives\u001b[0m\u001b[0;34m\u001b[0m\u001b[0;34m\u001b[0m\u001b[0m\n",
            "\u001b[0;32m/usr/local/lib/python3.10/dist-packages/sklearn/metrics/_classification.py\u001b[0m in \u001b[0;36mconfusion_matrix\u001b[0;34m(y_true, y_pred, labels, sample_weight, normalize)\u001b[0m\n\u001b[1;32m    315\u001b[0m     \u001b[0;34m(\u001b[0m\u001b[0;36m0\u001b[0m\u001b[0;34m,\u001b[0m \u001b[0;36m2\u001b[0m\u001b[0;34m,\u001b[0m \u001b[0;36m1\u001b[0m\u001b[0;34m,\u001b[0m \u001b[0;36m1\u001b[0m\u001b[0;34m)\u001b[0m\u001b[0;34m\u001b[0m\u001b[0;34m\u001b[0m\u001b[0m\n\u001b[1;32m    316\u001b[0m     \"\"\"\n\u001b[0;32m--> 317\u001b[0;31m     \u001b[0my_type\u001b[0m\u001b[0;34m,\u001b[0m \u001b[0my_true\u001b[0m\u001b[0;34m,\u001b[0m \u001b[0my_pred\u001b[0m \u001b[0;34m=\u001b[0m \u001b[0m_check_targets\u001b[0m\u001b[0;34m(\u001b[0m\u001b[0my_true\u001b[0m\u001b[0;34m,\u001b[0m \u001b[0my_pred\u001b[0m\u001b[0;34m)\u001b[0m\u001b[0;34m\u001b[0m\u001b[0;34m\u001b[0m\u001b[0m\n\u001b[0m\u001b[1;32m    318\u001b[0m     \u001b[0;32mif\u001b[0m \u001b[0my_type\u001b[0m \u001b[0;32mnot\u001b[0m \u001b[0;32min\u001b[0m \u001b[0;34m(\u001b[0m\u001b[0;34m\"binary\"\u001b[0m\u001b[0;34m,\u001b[0m \u001b[0;34m\"multiclass\"\u001b[0m\u001b[0;34m)\u001b[0m\u001b[0;34m:\u001b[0m\u001b[0;34m\u001b[0m\u001b[0;34m\u001b[0m\u001b[0m\n\u001b[1;32m    319\u001b[0m         \u001b[0;32mraise\u001b[0m \u001b[0mValueError\u001b[0m\u001b[0;34m(\u001b[0m\u001b[0;34m\"%s is not supported\"\u001b[0m \u001b[0;34m%\u001b[0m \u001b[0my_type\u001b[0m\u001b[0;34m)\u001b[0m\u001b[0;34m\u001b[0m\u001b[0;34m\u001b[0m\u001b[0m\n",
            "\u001b[0;32m/usr/local/lib/python3.10/dist-packages/sklearn/metrics/_classification.py\u001b[0m in \u001b[0;36m_check_targets\u001b[0;34m(y_true, y_pred)\u001b[0m\n\u001b[1;32m     84\u001b[0m     \u001b[0my_pred\u001b[0m \u001b[0;34m:\u001b[0m \u001b[0marray\u001b[0m \u001b[0;32mor\u001b[0m \u001b[0mindicator\u001b[0m \u001b[0mmatrix\u001b[0m\u001b[0;34m\u001b[0m\u001b[0;34m\u001b[0m\u001b[0m\n\u001b[1;32m     85\u001b[0m     \"\"\"\n\u001b[0;32m---> 86\u001b[0;31m     \u001b[0mcheck_consistent_length\u001b[0m\u001b[0;34m(\u001b[0m\u001b[0my_true\u001b[0m\u001b[0;34m,\u001b[0m \u001b[0my_pred\u001b[0m\u001b[0;34m)\u001b[0m\u001b[0;34m\u001b[0m\u001b[0;34m\u001b[0m\u001b[0m\n\u001b[0m\u001b[1;32m     87\u001b[0m     \u001b[0mtype_true\u001b[0m \u001b[0;34m=\u001b[0m \u001b[0mtype_of_target\u001b[0m\u001b[0;34m(\u001b[0m\u001b[0my_true\u001b[0m\u001b[0;34m,\u001b[0m \u001b[0minput_name\u001b[0m\u001b[0;34m=\u001b[0m\u001b[0;34m\"y_true\"\u001b[0m\u001b[0;34m)\u001b[0m\u001b[0;34m\u001b[0m\u001b[0;34m\u001b[0m\u001b[0m\n\u001b[1;32m     88\u001b[0m     \u001b[0mtype_pred\u001b[0m \u001b[0;34m=\u001b[0m \u001b[0mtype_of_target\u001b[0m\u001b[0;34m(\u001b[0m\u001b[0my_pred\u001b[0m\u001b[0;34m,\u001b[0m \u001b[0minput_name\u001b[0m\u001b[0;34m=\u001b[0m\u001b[0;34m\"y_pred\"\u001b[0m\u001b[0;34m)\u001b[0m\u001b[0;34m\u001b[0m\u001b[0;34m\u001b[0m\u001b[0m\n",
            "\u001b[0;32m/usr/local/lib/python3.10/dist-packages/sklearn/utils/validation.py\u001b[0m in \u001b[0;36mcheck_consistent_length\u001b[0;34m(*arrays)\u001b[0m\n\u001b[1;32m    395\u001b[0m     \u001b[0muniques\u001b[0m \u001b[0;34m=\u001b[0m \u001b[0mnp\u001b[0m\u001b[0;34m.\u001b[0m\u001b[0munique\u001b[0m\u001b[0;34m(\u001b[0m\u001b[0mlengths\u001b[0m\u001b[0;34m)\u001b[0m\u001b[0;34m\u001b[0m\u001b[0;34m\u001b[0m\u001b[0m\n\u001b[1;32m    396\u001b[0m     \u001b[0;32mif\u001b[0m \u001b[0mlen\u001b[0m\u001b[0;34m(\u001b[0m\u001b[0muniques\u001b[0m\u001b[0;34m)\u001b[0m \u001b[0;34m>\u001b[0m \u001b[0;36m1\u001b[0m\u001b[0;34m:\u001b[0m\u001b[0;34m\u001b[0m\u001b[0;34m\u001b[0m\u001b[0m\n\u001b[0;32m--> 397\u001b[0;31m         raise ValueError(\n\u001b[0m\u001b[1;32m    398\u001b[0m             \u001b[0;34m\"Found input variables with inconsistent numbers of samples: %r\"\u001b[0m\u001b[0;34m\u001b[0m\u001b[0;34m\u001b[0m\u001b[0m\n\u001b[1;32m    399\u001b[0m             \u001b[0;34m%\u001b[0m \u001b[0;34m[\u001b[0m\u001b[0mint\u001b[0m\u001b[0;34m(\u001b[0m\u001b[0ml\u001b[0m\u001b[0;34m)\u001b[0m \u001b[0;32mfor\u001b[0m \u001b[0ml\u001b[0m \u001b[0;32min\u001b[0m \u001b[0mlengths\u001b[0m\u001b[0;34m]\u001b[0m\u001b[0;34m\u001b[0m\u001b[0;34m\u001b[0m\u001b[0m\n",
            "\u001b[0;31mValueError\u001b[0m: Found input variables with inconsistent numbers of samples: [1800, 1792]"
          ]
        }
      ]
    },
    {
      "cell_type": "code",
      "source": [],
      "metadata": {
        "id": "-CNYRNbcZheC"
      },
      "execution_count": null,
      "outputs": []
    }
  ]
}