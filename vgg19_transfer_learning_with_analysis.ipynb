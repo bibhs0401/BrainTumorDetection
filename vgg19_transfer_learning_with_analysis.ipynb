{
  "nbformat": 4,
  "nbformat_minor": 0,
  "metadata": {
    "colab": {
      "provenance": [],
      "gpuType": "T4"
    },
    "kernelspec": {
      "name": "python3",
      "display_name": "Python 3"
    },
    "language_info": {
      "name": "python"
    }
  },
  "cells": [
    {
      "cell_type": "code",
      "source": [
        "#connect google colab with google drive\n",
        "from google.colab import drive\n",
        "drive.mount(\"/content/gdrive\")\n"
      ],
      "metadata": {
        "colab": {
          "base_uri": "https://localhost:8080/"
        },
        "id": "TyKE60CnZzcJ",
        "outputId": "f1728c29-ea6a-4920-eecf-e476d394e4e5"
      },
      "execution_count": null,
      "outputs": [
        {
          "output_type": "stream",
          "name": "stdout",
          "text": [
            "Mounted at /content/gdrive\n"
          ]
        }
      ]
    },
    {
      "cell_type": "code",
      "source": [
        "#import the libraries to load dataset\n",
        "import zipfile\n",
        "import os\n",
        "\n",
        "#opens file in readmode\n",
        "zip_ref = zipfile.ZipFile('/content/gdrive/MyDrive/MajorProject/br35hdataset/train.zip')\n",
        "\n",
        "\n",
        "#extracts the files into the /MajorProject folder\n",
        "zip_ref.extractall('/content/gdrive/MyDrive/MajorProject/br35hdataset')\n",
        "\n",
        "#close the file\n",
        "zip_ref.close()"
      ],
      "metadata": {
        "id": "rZ8FjdK8fJLN"
      },
      "execution_count": null,
      "outputs": []
    },
    {
      "cell_type": "code",
      "source": [
        "#import the libraries to load dataset\n",
        "import zipfile\n",
        "import os\n",
        "\n",
        "#opens file in readmode\n",
        "zip_ref = zipfile.ZipFile('/content/gdrive/MyDrive/MajorProject/br35hdataset/validation.zip')\n",
        "\n",
        "#extracts the files into the /MajorProject folder\n",
        "zip_ref.extractall('/content/gdrive/MyDrive/MajorProject/br35hdataset')\n",
        "\n",
        "#close the file\n",
        "zip_ref.close()\n",
        "\n"
      ],
      "metadata": {
        "id": "v6oZ8W1qfJ9g"
      },
      "execution_count": null,
      "outputs": []
    },
    {
      "cell_type": "code",
      "source": [
        "#import the libraries to load dataset\n",
        "import zipfile\n",
        "import os\n",
        "\n",
        "#opens file in readmode\n",
        "zip_ref = zipfile.ZipFile('/content/gdrive/MyDrive/MajorProject/br35hdataset/test.zip')\n",
        "\n",
        "#extracts the files into the /MajorProject folder\n",
        "zip_ref.extractall('/content/gdrive/MyDrive/MajorProject/br35hdataset')\n",
        "\n",
        "#close the file\n",
        "zip_ref.close()"
      ],
      "metadata": {
        "id": "uSURUGIPfRt4"
      },
      "execution_count": null,
      "outputs": []
    },
    {
      "cell_type": "code",
      "source": [
        "import os\n",
        "import glob\n",
        "\n",
        "folder_path = '/content/gdrive/MyDrive/MajorProject/br35hdataset/train'  # replace with the actual folder path\n",
        "\n",
        "yes_path = os.path.join(folder_path, 'yes')\n",
        "no_path = os.path.join(folder_path, 'no')\n",
        "\n",
        "yes_count = len(glob.glob(os.path.join(yes_path, '*.jpg')))  # replace '*.jpg' with the actual file extension of your images\n",
        "no_count = len(glob.glob(os.path.join(no_path, '*.jpg')))  # replace '*.jpg' with the actual file extension of your images\n",
        "\n",
        "print(f'Total images in \"yes\" folder: {yes_count}')\n",
        "print(f'Total images in \"no\" folder: {no_count}')\n",
        "print(yes_count+no_count)\n"
      ],
      "metadata": {
        "colab": {
          "base_uri": "https://localhost:8080/"
        },
        "id": "WDJKaAh5fxgy",
        "outputId": "e2b5a202-98cb-4656-8ff9-ef5d2a29a4cc"
      },
      "execution_count": null,
      "outputs": [
        {
          "output_type": "stream",
          "name": "stdout",
          "text": [
            "Total images in \"yes\" folder: 7180\n",
            "Total images in \"no\" folder: 7220\n",
            "14400\n"
          ]
        }
      ]
    },
    {
      "cell_type": "code",
      "source": [
        "import tensorflow as tf\n",
        "from tensorflow.keras.preprocessing.image import ImageDataGenerator\n",
        "from tensorflow.keras.applications.vgg19 import VGG19\n",
        "from tensorflow.keras.layers import Dense, GlobalAveragePooling2D\n",
        "from tensorflow.keras.models import Model"
      ],
      "metadata": {
        "id": "XW0okhvFaG-M"
      },
      "execution_count": null,
      "outputs": []
    },
    {
      "cell_type": "code",
      "source": [
        "# Define data generators for training, validation, and testing sets\n",
        "train_datagen = ImageDataGenerator(rescale=1./255)\n",
        "\n",
        "valid_datagen = ImageDataGenerator(rescale=1./255)\n",
        "\n",
        "\n",
        "train_generator = train_datagen.flow_from_directory('/content/gdrive/MyDrive/MajorProject/br35hdataset/train',\n",
        "                                                    target_size=(256, 256),\n",
        "                                                    batch_size=32,\n",
        "                                                    class_mode='binary')\n",
        "\n",
        "valid_generator = valid_datagen.flow_from_directory('/content/gdrive/MyDrive/MajorProject/br35hdataset/validation',\n",
        "                                                    target_size=(256, 256),\n",
        "                                                    batch_size=32,\n",
        "                                                    class_mode='binary')\n",
        "\n",
        "test_datagen = ImageDataGenerator(rescale=1./255)\n",
        "\n",
        "test_generator = test_datagen.flow_from_directory('/content/gdrive/MyDrive/MajorProject/br35hdataset/test',\n",
        "                                                  target_size=(256, 256),\n",
        "                                                  batch_size=32,\n",
        "                                                  class_mode='binary')"
      ],
      "metadata": {
        "colab": {
          "base_uri": "https://localhost:8080/"
        },
        "id": "W0K47qkNaJzA",
        "outputId": "0db97475-dbd1-49a6-efa1-791214f3e40b"
      },
      "execution_count": null,
      "outputs": [
        {
          "output_type": "stream",
          "name": "stdout",
          "text": [
            "Found 14400 images belonging to 2 classes.\n",
            "Found 1800 images belonging to 2 classes.\n",
            "Found 1800 images belonging to 2 classes.\n"
          ]
        }
      ]
    },
    {
      "cell_type": "code",
      "source": [
        "input_shape=(256,256,3)"
      ],
      "metadata": {
        "id": "eInl-ULEMXlb"
      },
      "execution_count": null,
      "outputs": []
    },
    {
      "cell_type": "code",
      "source": [
        "# Load the pre-trained VGG19 model\n",
        "base_model = VGG19(weights='imagenet', include_top=False, input_shape=input_shape)"
      ],
      "metadata": {
        "colab": {
          "base_uri": "https://localhost:8080/"
        },
        "id": "ZUrj4Ac4acL4",
        "outputId": "e47a7dcc-15fa-48a8-c333-83b89df0717c"
      },
      "execution_count": null,
      "outputs": [
        {
          "output_type": "stream",
          "name": "stdout",
          "text": [
            "Downloading data from https://storage.googleapis.com/tensorflow/keras-applications/vgg19/vgg19_weights_tf_dim_ordering_tf_kernels_notop.h5\n",
            "80134624/80134624 [==============================] - 5s 0us/step\n"
          ]
        }
      ]
    },
    {
      "cell_type": "code",
      "source": [
        "# Add a global average pooling layer\n",
        "x = base_model.output\n",
        "x = GlobalAveragePooling2D()(x)"
      ],
      "metadata": {
        "id": "w3Cj3581ad7z"
      },
      "execution_count": null,
      "outputs": []
    },
    {
      "cell_type": "code",
      "source": [
        "# Add a fully connected layer\n",
        "x = Dense(512, activation='relu')(x)"
      ],
      "metadata": {
        "id": "icsiNaq6K7y8"
      },
      "execution_count": null,
      "outputs": []
    },
    {
      "cell_type": "code",
      "source": [
        "# Add the final classification layer\n",
        "predictions = Dense(2, activation='softmax')(x)"
      ],
      "metadata": {
        "id": "M6vWwibzaluC"
      },
      "execution_count": null,
      "outputs": []
    },
    {
      "cell_type": "code",
      "source": [
        "# Freeze the pre-trained layers\n",
        "for layer in base_model.layers:\n",
        "    layer.trainable = False"
      ],
      "metadata": {
        "id": "sSgncU3DanBj"
      },
      "execution_count": null,
      "outputs": []
    },
    {
      "cell_type": "code",
      "source": [
        "# Create the model\n",
        "model = Model(inputs=base_model.input, outputs=predictions)"
      ],
      "metadata": {
        "id": "YawMwvHlaoiM"
      },
      "execution_count": null,
      "outputs": []
    },
    {
      "cell_type": "code",
      "source": [
        "# Compile the model\n",
        "model.compile(optimizer='adam', loss='sparse_categorical_crossentropy', metrics=['accuracy'])"
      ],
      "metadata": {
        "id": "iBBlkySvateM"
      },
      "execution_count": null,
      "outputs": []
    },
    {
      "cell_type": "code",
      "source": [
        "history = model.fit(\n",
        "    train_generator,\n",
        "    epochs=30,\n",
        "    validation_data=valid_generator\n",
        ")"
      ],
      "metadata": {
        "colab": {
          "base_uri": "https://localhost:8080/"
        },
        "id": "8fUfnvhGavgP",
        "outputId": "1f0c7140-5a0f-4185-b452-59307e681753"
      },
      "execution_count": null,
      "outputs": [
        {
          "output_type": "stream",
          "name": "stdout",
          "text": [
            "Epoch 1/30\n",
            "450/450 [==============================] - 140s 279ms/step - loss: 0.4219 - accuracy: 0.7934 - val_loss: 0.2958 - val_accuracy: 0.8683\n",
            "Epoch 2/30\n",
            "450/450 [==============================] - 119s 263ms/step - loss: 0.2846 - accuracy: 0.8771 - val_loss: 0.2403 - val_accuracy: 0.8983\n",
            "Epoch 3/30\n",
            "450/450 [==============================] - 118s 261ms/step - loss: 0.2427 - accuracy: 0.8956 - val_loss: 0.1929 - val_accuracy: 0.9244\n",
            "Epoch 4/30\n",
            "450/450 [==============================] - 124s 274ms/step - loss: 0.2098 - accuracy: 0.9117 - val_loss: 0.1660 - val_accuracy: 0.9350\n",
            "Epoch 5/30\n",
            "450/450 [==============================] - 125s 278ms/step - loss: 0.1999 - accuracy: 0.9182 - val_loss: 0.1533 - val_accuracy: 0.9400\n",
            "Epoch 6/30\n",
            "450/450 [==============================] - 114s 253ms/step - loss: 0.1693 - accuracy: 0.9306 - val_loss: 0.2446 - val_accuracy: 0.8983\n",
            "Epoch 7/30\n",
            "450/450 [==============================] - 120s 267ms/step - loss: 0.1553 - accuracy: 0.9391 - val_loss: 0.1325 - val_accuracy: 0.9456\n",
            "Epoch 8/30\n",
            "450/450 [==============================] - 115s 254ms/step - loss: 0.1415 - accuracy: 0.9451 - val_loss: 0.1245 - val_accuracy: 0.9544\n",
            "Epoch 9/30\n",
            "450/450 [==============================] - 115s 254ms/step - loss: 0.1224 - accuracy: 0.9528 - val_loss: 0.2167 - val_accuracy: 0.9078\n",
            "Epoch 10/30\n",
            "450/450 [==============================] - 115s 255ms/step - loss: 0.1175 - accuracy: 0.9545 - val_loss: 0.1383 - val_accuracy: 0.9478\n",
            "Epoch 11/30\n",
            "450/450 [==============================] - 122s 271ms/step - loss: 0.1044 - accuracy: 0.9630 - val_loss: 0.1031 - val_accuracy: 0.9572\n",
            "Epoch 12/30\n",
            "450/450 [==============================] - 118s 261ms/step - loss: 0.0982 - accuracy: 0.9626 - val_loss: 0.0844 - val_accuracy: 0.9650\n",
            "Epoch 13/30\n",
            "450/450 [==============================] - 122s 271ms/step - loss: 0.0934 - accuracy: 0.9656 - val_loss: 0.0998 - val_accuracy: 0.9644\n",
            "Epoch 14/30\n",
            "450/450 [==============================] - 116s 257ms/step - loss: 0.0829 - accuracy: 0.9710 - val_loss: 0.0863 - val_accuracy: 0.9667\n",
            "Epoch 15/30\n",
            "450/450 [==============================] - 115s 255ms/step - loss: 0.0816 - accuracy: 0.9701 - val_loss: 0.0785 - val_accuracy: 0.9644\n",
            "Epoch 16/30\n",
            "450/450 [==============================] - 116s 258ms/step - loss: 0.0725 - accuracy: 0.9744 - val_loss: 0.0815 - val_accuracy: 0.9722\n",
            "Epoch 17/30\n",
            "450/450 [==============================] - 120s 265ms/step - loss: 0.0604 - accuracy: 0.9803 - val_loss: 0.0737 - val_accuracy: 0.9761\n",
            "Epoch 18/30\n",
            "450/450 [==============================] - 117s 260ms/step - loss: 0.0665 - accuracy: 0.9752 - val_loss: 0.0588 - val_accuracy: 0.9806\n",
            "Epoch 19/30\n",
            "450/450 [==============================] - 123s 273ms/step - loss: 0.0537 - accuracy: 0.9826 - val_loss: 0.1014 - val_accuracy: 0.9567\n",
            "Epoch 20/30\n",
            "450/450 [==============================] - 122s 271ms/step - loss: 0.0608 - accuracy: 0.9788 - val_loss: 0.0572 - val_accuracy: 0.9767\n",
            "Epoch 21/30\n",
            "450/450 [==============================] - 115s 255ms/step - loss: 0.0521 - accuracy: 0.9819 - val_loss: 0.0588 - val_accuracy: 0.9750\n",
            "Epoch 22/30\n",
            "450/450 [==============================] - 115s 255ms/step - loss: 0.0476 - accuracy: 0.9835 - val_loss: 0.0483 - val_accuracy: 0.9839\n",
            "Epoch 23/30\n",
            "450/450 [==============================] - 126s 280ms/step - loss: 0.0491 - accuracy: 0.9824 - val_loss: 0.0648 - val_accuracy: 0.9778\n",
            "Epoch 24/30\n",
            "450/450 [==============================] - 115s 254ms/step - loss: 0.0437 - accuracy: 0.9846 - val_loss: 0.0536 - val_accuracy: 0.9839\n",
            "Epoch 25/30\n",
            "450/450 [==============================] - 115s 255ms/step - loss: 0.0387 - accuracy: 0.9876 - val_loss: 0.0469 - val_accuracy: 0.9844\n",
            "Epoch 26/30\n",
            "450/450 [==============================] - 113s 252ms/step - loss: 0.0437 - accuracy: 0.9849 - val_loss: 0.0425 - val_accuracy: 0.9861\n",
            "Epoch 27/30\n",
            "450/450 [==============================] - 115s 255ms/step - loss: 0.0372 - accuracy: 0.9870 - val_loss: 0.0724 - val_accuracy: 0.9783\n",
            "Epoch 28/30\n",
            "450/450 [==============================] - 113s 251ms/step - loss: 0.0330 - accuracy: 0.9887 - val_loss: 0.0367 - val_accuracy: 0.9900\n",
            "Epoch 29/30\n",
            "450/450 [==============================] - 117s 259ms/step - loss: 0.0385 - accuracy: 0.9854 - val_loss: 0.0451 - val_accuracy: 0.9839\n",
            "Epoch 30/30\n",
            "450/450 [==============================] - 114s 253ms/step - loss: 0.0277 - accuracy: 0.9911 - val_loss: 0.0542 - val_accuracy: 0.9767\n"
          ]
        }
      ]
    },
    {
      "cell_type": "code",
      "source": [
        "# Save the model\n",
        "model.save('/content/gdrive/MyDrive/MajorProject/vgg19.h5')"
      ],
      "metadata": {
        "id": "Yg3ywlIgbmym"
      },
      "execution_count": null,
      "outputs": []
    },
    {
      "cell_type": "code",
      "source": [
        "from tensorflow.keras.models import load_model\n",
        "\n",
        "# Load the saved model\n",
        "vgg19_model = load_model('/content/gdrive/MyDrive/MajorProject/vgg19.h5')"
      ],
      "metadata": {
        "id": "3FeqVq8BgcDp"
      },
      "execution_count": null,
      "outputs": []
    },
    {
      "cell_type": "code",
      "source": [
        "# Evaluate the model on the test set\n",
        "test_loss, test_accuracy = model.evaluate(test_generator)\n",
        "print('Test Loss:', test_loss)\n",
        "print('Test Accuracy:', test_accuracy)"
      ],
      "metadata": {
        "id": "FinIGlhGaw17",
        "colab": {
          "base_uri": "https://localhost:8080/"
        },
        "outputId": "c6b1e952-0872-44f3-e879-b3d65b0ee905"
      },
      "execution_count": null,
      "outputs": [
        {
          "output_type": "stream",
          "name": "stdout",
          "text": [
            "57/57 [==============================] - 13s 220ms/step - loss: 0.0627 - accuracy: 0.9783\n",
            "Test Loss: 0.06269051879644394\n",
            "Test Accuracy: 0.9783333539962769\n"
          ]
        }
      ]
    },
    {
      "cell_type": "code",
      "source": [
        "test_datagen = ImageDataGenerator(rescale=1./255)\n",
        "\n",
        "test_generator = test_datagen.flow_from_directory('/content/gdrive/MyDrive/MajorProject/br35hdataset/test',\n",
        "                                                  target_size=(256, 256),\n",
        "                                                  batch_size=32,\n",
        "                                                  class_mode='binary')"
      ],
      "metadata": {
        "colab": {
          "base_uri": "https://localhost:8080/"
        },
        "id": "G96y7HR2tTIy",
        "outputId": "cdd8402a-16dd-4f3c-9798-0d410d277055"
      },
      "execution_count": null,
      "outputs": [
        {
          "output_type": "stream",
          "name": "stdout",
          "text": [
            "Found 1800 images belonging to 2 classes.\n"
          ]
        }
      ]
    },
    {
      "cell_type": "code",
      "source": [
        "import numpy as np\n",
        "import seaborn as sns\n",
        "from sklearn.metrics import confusion_matrix\n",
        "\n",
        "# Generate predictions for the test data\n",
        "y_pred = vgg19_model.predict(test_generator)\n",
        "y_pred = np.argmax(y_pred, axis=1)\n",
        "\n",
        "# Get the true labels for the test data\n",
        "y_true = test_generator.classes\n",
        "\n",
        "# Generate the confusion matrix\n",
        "cm = confusion_matrix(y_true, y_pred)\n",
        "\n",
        "# Plot the confusion matrix using seaborn heatmap\n",
        "sns.heatmap(cm, annot=True, fmt='d', cmap='Blues',\n",
        "            xticklabels=['No Tumor', 'Tumor'],\n",
        "            yticklabels=['No Tumor', 'Tumor'])\n",
        "plt.title('Confusion Matrix')\n",
        "plt.ylabel('True Label')\n",
        "plt.xlabel('Predicted Label')\n",
        "plt.show()\n"
      ],
      "metadata": {
        "colab": {
          "base_uri": "https://localhost:8080/",
          "height": 677
        },
        "id": "ijLamV2pfhvN",
        "outputId": "7c5f303d-eba3-4fa3-aa8f-c5f1ddd30bed"
      },
      "execution_count": null,
      "outputs": [
        {
          "output_type": "stream",
          "name": "stdout",
          "text": [
            "57/57 [==============================] - 1187s 21s/step\n"
          ]
        },
        {
          "output_type": "error",
          "ename": "NameError",
          "evalue": "ignored",
          "traceback": [
            "\u001b[0;31m---------------------------------------------------------------------------\u001b[0m",
            "\u001b[0;31mNameError\u001b[0m                                 Traceback (most recent call last)",
            "\u001b[0;32m<ipython-input-6-009dfc6b3eae>\u001b[0m in \u001b[0;36m<cell line: 19>\u001b[0;34m()\u001b[0m\n\u001b[1;32m     17\u001b[0m             \u001b[0mxticklabels\u001b[0m\u001b[0;34m=\u001b[0m\u001b[0;34m[\u001b[0m\u001b[0;34m'No Tumor'\u001b[0m\u001b[0;34m,\u001b[0m \u001b[0;34m'Tumor'\u001b[0m\u001b[0;34m]\u001b[0m\u001b[0;34m,\u001b[0m\u001b[0;34m\u001b[0m\u001b[0;34m\u001b[0m\u001b[0m\n\u001b[1;32m     18\u001b[0m             yticklabels=['No Tumor', 'Tumor'])\n\u001b[0;32m---> 19\u001b[0;31m \u001b[0mplt\u001b[0m\u001b[0;34m.\u001b[0m\u001b[0mtitle\u001b[0m\u001b[0;34m(\u001b[0m\u001b[0;34m'Confusion Matrix'\u001b[0m\u001b[0;34m)\u001b[0m\u001b[0;34m\u001b[0m\u001b[0;34m\u001b[0m\u001b[0m\n\u001b[0m\u001b[1;32m     20\u001b[0m \u001b[0mplt\u001b[0m\u001b[0;34m.\u001b[0m\u001b[0mylabel\u001b[0m\u001b[0;34m(\u001b[0m\u001b[0;34m'True Label'\u001b[0m\u001b[0;34m)\u001b[0m\u001b[0;34m\u001b[0m\u001b[0;34m\u001b[0m\u001b[0m\n\u001b[1;32m     21\u001b[0m \u001b[0mplt\u001b[0m\u001b[0;34m.\u001b[0m\u001b[0mxlabel\u001b[0m\u001b[0;34m(\u001b[0m\u001b[0;34m'Predicted Label'\u001b[0m\u001b[0;34m)\u001b[0m\u001b[0;34m\u001b[0m\u001b[0;34m\u001b[0m\u001b[0m\n",
            "\u001b[0;31mNameError\u001b[0m: name 'plt' is not defined"
          ]
        },
        {
          "output_type": "display_data",
          "data": {
            "text/plain": [
              "<Figure size 640x480 with 2 Axes>"
            ],
            "image/png": "[encoded data removed]"
          },
          "metadata": {}
        }
      ]
    },
    {
      "cell_type": "code",
      "source": [
        "X_test, y_test = test_generator.next()"
      ],
      "metadata": {
        "id": "qxzcmcWefmkl"
      },
      "execution_count": null,
      "outputs": []
    },
    {
      "cell_type": "code",
      "source": [
        "from sklearn.metrics import classification_report, confusion_matrix\n",
        "\n",
        "# Get the predicted labels for the test data\n",
        "y_pred = vgg19_model.predict(X_test)\n",
        "\n",
        "# Convert the predicted labels to binary values (0 or 1)\n",
        "y_pred_binary = np.argmax(y_pred, axis=1)\n",
        "\n",
        "# Calculate precision, recall, sensitivity, specificity, f1 score, and f beta score\n",
        "tn, fp, fn, tp = cm.ravel()\n",
        "precision = tp / (tp + fp)\n",
        "recall = tp / (tp + fn)\n",
        "sensitivity = recall\n",
        "specificity = tn / (tn + fp)\n",
        "f1_score = 2 * (precision * recall) / (precision + recall)\n",
        "beta = 2\n",
        "f_beta_score = (1 + beta ** 2) * (precision * recall) / (beta ** 2 * precision + recall)\n",
        "\n",
        "# Print the metrics\n",
        "print(\"Precision: {:.4f}\".format(precision))\n",
        "print(\"Recall: {:.4f}\".format(recall))\n",
        "print(\"Sensitivity: {:.4f}\".format(sensitivity))\n",
        "print(\"Specificity: {:.4f}\".format(specificity))\n",
        "print(\"F1 Score: {:.4f}\".format(f1_score))\n",
        "print(\"F Beta Score: {:.4f}\".format(f_beta_score))"
      ],
      "metadata": {
        "colab": {
          "base_uri": "https://localhost:8080/"
        },
        "id": "_mw3sMqn23xr",
        "outputId": "6963551b-f377-4034-d678-161179fc5429"
      },
      "execution_count": null,
      "outputs": [
        {
          "output_type": "stream",
          "name": "stdout",
          "text": [
            "1/1 [==============================] - 22s 22s/step\n",
            "Precision: 0.5085\n",
            "Recall: 0.4967\n",
            "Sensitivity: 0.4967\n",
            "Specificity: 0.5156\n",
            "F1 Score: 0.5025\n",
            "F Beta Score: 0.4990\n"
          ]
        }
      ]
    },
    {
      "cell_type": "code",
      "source": [
        "import matplotlib.pyplot as plt\n",
        "# Plot training and validation loss\n",
        "plt.plot(history.history['loss'], label='Training Loss')\n",
        "plt.plot(history.history['val_loss'], label='Validation Loss')\n",
        "plt.title('Training and Validation Loss')\n",
        "plt.xlabel('Epoch')\n",
        "plt.ylabel('Loss')\n",
        "plt.legend()\n",
        "plt.show()"
      ],
      "metadata": {
        "colab": {
          "base_uri": "https://localhost:8080/",
          "height": 246
        },
        "id": "xKp9V5nSfstK",
        "outputId": "8a0c4563-b30d-45df-f6f5-388b7e1f0223"
      },
      "execution_count": null,
      "outputs": [
        {
          "output_type": "error",
          "ename": "NameError",
          "evalue": "ignored",
          "traceback": [
            "\u001b[0;31m---------------------------------------------------------------------------\u001b[0m",
            "\u001b[0;31mNameError\u001b[0m                                 Traceback (most recent call last)",
            "\u001b[0;32m<ipython-input-10-7231024adc54>\u001b[0m in \u001b[0;36m<cell line: 3>\u001b[0;34m()\u001b[0m\n\u001b[1;32m      1\u001b[0m \u001b[0;32mimport\u001b[0m \u001b[0mmatplotlib\u001b[0m\u001b[0;34m.\u001b[0m\u001b[0mpyplot\u001b[0m \u001b[0;32mas\u001b[0m \u001b[0mplt\u001b[0m\u001b[0;34m\u001b[0m\u001b[0;34m\u001b[0m\u001b[0m\n\u001b[1;32m      2\u001b[0m \u001b[0;31m# Plot training and validation loss\u001b[0m\u001b[0;34m\u001b[0m\u001b[0;34m\u001b[0m\u001b[0m\n\u001b[0;32m----> 3\u001b[0;31m \u001b[0mplt\u001b[0m\u001b[0;34m.\u001b[0m\u001b[0mplot\u001b[0m\u001b[0;34m(\u001b[0m\u001b[0mhistory\u001b[0m\u001b[0;34m.\u001b[0m\u001b[0mhistory\u001b[0m\u001b[0;34m[\u001b[0m\u001b[0;34m'loss'\u001b[0m\u001b[0;34m]\u001b[0m\u001b[0;34m,\u001b[0m \u001b[0mlabel\u001b[0m\u001b[0;34m=\u001b[0m\u001b[0;34m'Training Loss'\u001b[0m\u001b[0;34m)\u001b[0m\u001b[0;34m\u001b[0m\u001b[0;34m\u001b[0m\u001b[0m\n\u001b[0m\u001b[1;32m      4\u001b[0m \u001b[0mplt\u001b[0m\u001b[0;34m.\u001b[0m\u001b[0mplot\u001b[0m\u001b[0;34m(\u001b[0m\u001b[0mhistory\u001b[0m\u001b[0;34m.\u001b[0m\u001b[0mhistory\u001b[0m\u001b[0;34m[\u001b[0m\u001b[0;34m'val_loss'\u001b[0m\u001b[0;34m]\u001b[0m\u001b[0;34m,\u001b[0m \u001b[0mlabel\u001b[0m\u001b[0;34m=\u001b[0m\u001b[0;34m'Validation Loss'\u001b[0m\u001b[0;34m)\u001b[0m\u001b[0;34m\u001b[0m\u001b[0;34m\u001b[0m\u001b[0m\n\u001b[1;32m      5\u001b[0m \u001b[0mplt\u001b[0m\u001b[0;34m.\u001b[0m\u001b[0mtitle\u001b[0m\u001b[0;34m(\u001b[0m\u001b[0;34m'Training and Validation Loss'\u001b[0m\u001b[0;34m)\u001b[0m\u001b[0;34m\u001b[0m\u001b[0;34m\u001b[0m\u001b[0m\n",
            "\u001b[0;31mNameError\u001b[0m: name 'history' is not defined"
          ]
        }
      ]
    },
    {
      "cell_type": "code",
      "source": [
        "# Plot training and validation accuracy\n",
        "plt.plot(history.history['accuracy'], label='Training Accuracy')\n",
        "plt.plot(history.history['val_accuracy'], label='Validation Accuracy')\n",
        "plt.title('Training and Validation Accuracy')\n",
        "plt.xlabel('Epoch')\n",
        "plt.ylabel('Accuracy')\n",
        "plt.legend()\n",
        "plt.show()"
      ],
      "metadata": {
        "id": "-1XDrYJPwDxD"
      },
      "execution_count": null,
      "outputs": []
    },
    {
      "cell_type": "code",
      "source": [
        "# Plot training and test loss\n",
        "plt.plot(history.history['loss'], label='Training Loss')\n",
        "plt.plot(history.history['val_loss'], label='Test Loss')\n",
        "plt.title('Training and Test Loss')\n",
        "plt.xlabel('Epoch')\n",
        "plt.ylabel('Loss')\n",
        "plt.legend()\n",
        "plt.show()"
      ],
      "metadata": {
        "id": "mddta63Zs9K3"
      },
      "execution_count": null,
      "outputs": []
    },
    {
      "cell_type": "code",
      "source": [
        "\n",
        "# Plot training and test accuracy\n",
        "plt.plot(history.history['accuracy'], label='Training Accuracy')\n",
        "plt.plot(history.history['val_accuracy'], label='Test Accuracy')\n",
        "plt.title('Training and Test Accuracy')\n",
        "plt.xlabel('Epoch')\n",
        "plt.ylabel('Accuracy')\n",
        "plt.legend()\n",
        "plt.show()"
      ],
      "metadata": {
        "id": "l2e0MS1Kv0L-"
      },
      "execution_count": null,
      "outputs": []
    },
    {
      "cell_type": "code",
      "source": [],
      "metadata": {
        "id": "gOLlrz2eyvCv"
      },
      "execution_count": null,
      "outputs": []
    }
  ]
}